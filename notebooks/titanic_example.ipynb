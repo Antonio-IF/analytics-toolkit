{
 "cells": [
  {
   "cell_type": "markdown",
   "id": "6af079a1",
   "metadata": {},
   "source": [
    "# Análisis de Datos"
   ]
  },
  {
   "cell_type": "code",
   "execution_count": 125,
   "id": "3df2e6ca",
   "metadata": {},
   "outputs": [],
   "source": [
    "# Importar librerías\n",
    "import numpy as np\n",
    "import pandas as pd\n",
    "import seaborn as sns\n",
    "import matplotlib.pyplot as plt\n",
    "from IPython.display import display"
   ]
  },
  {
   "cell_type": "code",
   "execution_count": 126,
   "id": "73db3006",
   "metadata": {},
   "outputs": [],
   "source": [
    "# Cargar el conjunto de datos Titanic\n",
    "df = sns.load_dataset('titanic')"
   ]
  },
  {
   "cell_type": "code",
   "execution_count": 127,
   "id": "921c0a9e",
   "metadata": {},
   "outputs": [],
   "source": [
    "# Columna objetivo\n",
    "target_column = 'survived'"
   ]
  },
  {
   "cell_type": "code",
   "execution_count": 128,
   "id": "fd2c2315",
   "metadata": {},
   "outputs": [],
   "source": [
    "# Columnas a eliminar\n",
    "cols_to_drop = ['class', 'embark_town', 'alive']"
   ]
  },
  {
   "cell_type": "markdown",
   "id": "b5488952",
   "metadata": {},
   "source": [
    "## EDA"
   ]
  },
  {
   "cell_type": "markdown",
   "id": "c5fbcbb3",
   "metadata": {},
   "source": [
    "### 1-. EDA (textual)"
   ]
  },
  {
   "cell_type": "code",
   "execution_count": 129,
   "id": "de24b5da",
   "metadata": {},
   "outputs": [
    {
     "name": "stdout",
     "output_type": "stream",
     "text": [
      "~~~~~~~~~~~~~~~~~~~~~~~~~~~~~~~~~~~~~~~~~~~~~~~~~~\n",
      "EXPLORACIÓN TEXTUAL\n",
      "~~~~~~~~~~~~~~~~~~~~~~~~~~~~~~~~~~~~~~~~~~~~~~~~~~\n",
      "\n",
      "------------------------------\n",
      "Primeros registros:\n",
      "------------------------------\n"
     ]
    },
    {
     "data": {
      "application/vnd.microsoft.datawrangler.viewer.v0+json": {
       "columns": [
        {
         "name": "index",
         "rawType": "int64",
         "type": "integer"
        },
        {
         "name": "survived",
         "rawType": "int64",
         "type": "integer"
        },
        {
         "name": "pclass",
         "rawType": "int64",
         "type": "integer"
        },
        {
         "name": "sex",
         "rawType": "object",
         "type": "string"
        },
        {
         "name": "age",
         "rawType": "float64",
         "type": "float"
        },
        {
         "name": "sibsp",
         "rawType": "int64",
         "type": "integer"
        },
        {
         "name": "parch",
         "rawType": "int64",
         "type": "integer"
        },
        {
         "name": "fare",
         "rawType": "float64",
         "type": "float"
        },
        {
         "name": "embarked",
         "rawType": "object",
         "type": "string"
        },
        {
         "name": "class",
         "rawType": "category",
         "type": "unknown"
        },
        {
         "name": "who",
         "rawType": "object",
         "type": "string"
        },
        {
         "name": "adult_male",
         "rawType": "bool",
         "type": "boolean"
        },
        {
         "name": "deck",
         "rawType": "category",
         "type": "unknown"
        },
        {
         "name": "embark_town",
         "rawType": "object",
         "type": "string"
        },
        {
         "name": "alive",
         "rawType": "object",
         "type": "string"
        },
        {
         "name": "alone",
         "rawType": "bool",
         "type": "boolean"
        }
       ],
       "ref": "5d631e1d-19eb-4265-8197-b1e2bef2f9ea",
       "rows": [
        [
         "0",
         "0",
         "3",
         "male",
         "22.0",
         "1",
         "0",
         "7.25",
         "S",
         "Third",
         "man",
         "True",
         null,
         "Southampton",
         "no",
         "False"
        ],
        [
         "1",
         "1",
         "1",
         "female",
         "38.0",
         "1",
         "0",
         "71.2833",
         "C",
         "First",
         "woman",
         "False",
         "C",
         "Cherbourg",
         "yes",
         "False"
        ],
        [
         "2",
         "1",
         "3",
         "female",
         "26.0",
         "0",
         "0",
         "7.925",
         "S",
         "Third",
         "woman",
         "False",
         null,
         "Southampton",
         "yes",
         "True"
        ],
        [
         "3",
         "1",
         "1",
         "female",
         "35.0",
         "1",
         "0",
         "53.1",
         "S",
         "First",
         "woman",
         "False",
         "C",
         "Southampton",
         "yes",
         "False"
        ],
        [
         "4",
         "0",
         "3",
         "male",
         "35.0",
         "0",
         "0",
         "8.05",
         "S",
         "Third",
         "man",
         "True",
         null,
         "Southampton",
         "no",
         "True"
        ]
       ],
       "shape": {
        "columns": 15,
        "rows": 5
       }
      },
      "text/html": [
       "<div>\n",
       "<style scoped>\n",
       "    .dataframe tbody tr th:only-of-type {\n",
       "        vertical-align: middle;\n",
       "    }\n",
       "\n",
       "    .dataframe tbody tr th {\n",
       "        vertical-align: top;\n",
       "    }\n",
       "\n",
       "    .dataframe thead th {\n",
       "        text-align: right;\n",
       "    }\n",
       "</style>\n",
       "<table border=\"1\" class=\"dataframe\">\n",
       "  <thead>\n",
       "    <tr style=\"text-align: right;\">\n",
       "      <th></th>\n",
       "      <th>survived</th>\n",
       "      <th>pclass</th>\n",
       "      <th>sex</th>\n",
       "      <th>age</th>\n",
       "      <th>sibsp</th>\n",
       "      <th>parch</th>\n",
       "      <th>fare</th>\n",
       "      <th>embarked</th>\n",
       "      <th>class</th>\n",
       "      <th>who</th>\n",
       "      <th>adult_male</th>\n",
       "      <th>deck</th>\n",
       "      <th>embark_town</th>\n",
       "      <th>alive</th>\n",
       "      <th>alone</th>\n",
       "    </tr>\n",
       "  </thead>\n",
       "  <tbody>\n",
       "    <tr>\n",
       "      <th>0</th>\n",
       "      <td>0</td>\n",
       "      <td>3</td>\n",
       "      <td>male</td>\n",
       "      <td>22.0</td>\n",
       "      <td>1</td>\n",
       "      <td>0</td>\n",
       "      <td>7.2500</td>\n",
       "      <td>S</td>\n",
       "      <td>Third</td>\n",
       "      <td>man</td>\n",
       "      <td>True</td>\n",
       "      <td>NaN</td>\n",
       "      <td>Southampton</td>\n",
       "      <td>no</td>\n",
       "      <td>False</td>\n",
       "    </tr>\n",
       "    <tr>\n",
       "      <th>1</th>\n",
       "      <td>1</td>\n",
       "      <td>1</td>\n",
       "      <td>female</td>\n",
       "      <td>38.0</td>\n",
       "      <td>1</td>\n",
       "      <td>0</td>\n",
       "      <td>71.2833</td>\n",
       "      <td>C</td>\n",
       "      <td>First</td>\n",
       "      <td>woman</td>\n",
       "      <td>False</td>\n",
       "      <td>C</td>\n",
       "      <td>Cherbourg</td>\n",
       "      <td>yes</td>\n",
       "      <td>False</td>\n",
       "    </tr>\n",
       "    <tr>\n",
       "      <th>2</th>\n",
       "      <td>1</td>\n",
       "      <td>3</td>\n",
       "      <td>female</td>\n",
       "      <td>26.0</td>\n",
       "      <td>0</td>\n",
       "      <td>0</td>\n",
       "      <td>7.9250</td>\n",
       "      <td>S</td>\n",
       "      <td>Third</td>\n",
       "      <td>woman</td>\n",
       "      <td>False</td>\n",
       "      <td>NaN</td>\n",
       "      <td>Southampton</td>\n",
       "      <td>yes</td>\n",
       "      <td>True</td>\n",
       "    </tr>\n",
       "    <tr>\n",
       "      <th>3</th>\n",
       "      <td>1</td>\n",
       "      <td>1</td>\n",
       "      <td>female</td>\n",
       "      <td>35.0</td>\n",
       "      <td>1</td>\n",
       "      <td>0</td>\n",
       "      <td>53.1000</td>\n",
       "      <td>S</td>\n",
       "      <td>First</td>\n",
       "      <td>woman</td>\n",
       "      <td>False</td>\n",
       "      <td>C</td>\n",
       "      <td>Southampton</td>\n",
       "      <td>yes</td>\n",
       "      <td>False</td>\n",
       "    </tr>\n",
       "    <tr>\n",
       "      <th>4</th>\n",
       "      <td>0</td>\n",
       "      <td>3</td>\n",
       "      <td>male</td>\n",
       "      <td>35.0</td>\n",
       "      <td>0</td>\n",
       "      <td>0</td>\n",
       "      <td>8.0500</td>\n",
       "      <td>S</td>\n",
       "      <td>Third</td>\n",
       "      <td>man</td>\n",
       "      <td>True</td>\n",
       "      <td>NaN</td>\n",
       "      <td>Southampton</td>\n",
       "      <td>no</td>\n",
       "      <td>True</td>\n",
       "    </tr>\n",
       "  </tbody>\n",
       "</table>\n",
       "</div>"
      ],
      "text/plain": [
       "   survived  pclass     sex   age  sibsp  parch     fare embarked  class  \\\n",
       "0         0       3    male  22.0      1      0   7.2500        S  Third   \n",
       "1         1       1  female  38.0      1      0  71.2833        C  First   \n",
       "2         1       3  female  26.0      0      0   7.9250        S  Third   \n",
       "3         1       1  female  35.0      1      0  53.1000        S  First   \n",
       "4         0       3    male  35.0      0      0   8.0500        S  Third   \n",
       "\n",
       "     who  adult_male deck  embark_town alive  alone  \n",
       "0    man        True  NaN  Southampton    no  False  \n",
       "1  woman       False    C    Cherbourg   yes  False  \n",
       "2  woman       False  NaN  Southampton   yes   True  \n",
       "3  woman       False    C  Southampton   yes  False  \n",
       "4    man        True  NaN  Southampton    no   True  "
      ]
     },
     "metadata": {},
     "output_type": "display_data"
    },
    {
     "name": "stdout",
     "output_type": "stream",
     "text": [
      "------------------------------\n",
      "Últimos registros:\n",
      "------------------------------\n"
     ]
    },
    {
     "data": {
      "application/vnd.microsoft.datawrangler.viewer.v0+json": {
       "columns": [
        {
         "name": "index",
         "rawType": "int64",
         "type": "integer"
        },
        {
         "name": "survived",
         "rawType": "int64",
         "type": "integer"
        },
        {
         "name": "pclass",
         "rawType": "int64",
         "type": "integer"
        },
        {
         "name": "sex",
         "rawType": "object",
         "type": "string"
        },
        {
         "name": "age",
         "rawType": "float64",
         "type": "float"
        },
        {
         "name": "sibsp",
         "rawType": "int64",
         "type": "integer"
        },
        {
         "name": "parch",
         "rawType": "int64",
         "type": "integer"
        },
        {
         "name": "fare",
         "rawType": "float64",
         "type": "float"
        },
        {
         "name": "embarked",
         "rawType": "object",
         "type": "string"
        },
        {
         "name": "class",
         "rawType": "category",
         "type": "unknown"
        },
        {
         "name": "who",
         "rawType": "object",
         "type": "string"
        },
        {
         "name": "adult_male",
         "rawType": "bool",
         "type": "boolean"
        },
        {
         "name": "deck",
         "rawType": "category",
         "type": "unknown"
        },
        {
         "name": "embark_town",
         "rawType": "object",
         "type": "string"
        },
        {
         "name": "alive",
         "rawType": "object",
         "type": "string"
        },
        {
         "name": "alone",
         "rawType": "bool",
         "type": "boolean"
        }
       ],
       "ref": "c101796b-2923-4c9d-a44c-b4d3c2675eae",
       "rows": [
        [
         "886",
         "0",
         "2",
         "male",
         "27.0",
         "0",
         "0",
         "13.0",
         "S",
         "Second",
         "man",
         "True",
         null,
         "Southampton",
         "no",
         "True"
        ],
        [
         "887",
         "1",
         "1",
         "female",
         "19.0",
         "0",
         "0",
         "30.0",
         "S",
         "First",
         "woman",
         "False",
         "B",
         "Southampton",
         "yes",
         "True"
        ],
        [
         "888",
         "0",
         "3",
         "female",
         null,
         "1",
         "2",
         "23.45",
         "S",
         "Third",
         "woman",
         "False",
         null,
         "Southampton",
         "no",
         "False"
        ],
        [
         "889",
         "1",
         "1",
         "male",
         "26.0",
         "0",
         "0",
         "30.0",
         "C",
         "First",
         "man",
         "True",
         "C",
         "Cherbourg",
         "yes",
         "True"
        ],
        [
         "890",
         "0",
         "3",
         "male",
         "32.0",
         "0",
         "0",
         "7.75",
         "Q",
         "Third",
         "man",
         "True",
         null,
         "Queenstown",
         "no",
         "True"
        ]
       ],
       "shape": {
        "columns": 15,
        "rows": 5
       }
      },
      "text/html": [
       "<div>\n",
       "<style scoped>\n",
       "    .dataframe tbody tr th:only-of-type {\n",
       "        vertical-align: middle;\n",
       "    }\n",
       "\n",
       "    .dataframe tbody tr th {\n",
       "        vertical-align: top;\n",
       "    }\n",
       "\n",
       "    .dataframe thead th {\n",
       "        text-align: right;\n",
       "    }\n",
       "</style>\n",
       "<table border=\"1\" class=\"dataframe\">\n",
       "  <thead>\n",
       "    <tr style=\"text-align: right;\">\n",
       "      <th></th>\n",
       "      <th>survived</th>\n",
       "      <th>pclass</th>\n",
       "      <th>sex</th>\n",
       "      <th>age</th>\n",
       "      <th>sibsp</th>\n",
       "      <th>parch</th>\n",
       "      <th>fare</th>\n",
       "      <th>embarked</th>\n",
       "      <th>class</th>\n",
       "      <th>who</th>\n",
       "      <th>adult_male</th>\n",
       "      <th>deck</th>\n",
       "      <th>embark_town</th>\n",
       "      <th>alive</th>\n",
       "      <th>alone</th>\n",
       "    </tr>\n",
       "  </thead>\n",
       "  <tbody>\n",
       "    <tr>\n",
       "      <th>886</th>\n",
       "      <td>0</td>\n",
       "      <td>2</td>\n",
       "      <td>male</td>\n",
       "      <td>27.0</td>\n",
       "      <td>0</td>\n",
       "      <td>0</td>\n",
       "      <td>13.00</td>\n",
       "      <td>S</td>\n",
       "      <td>Second</td>\n",
       "      <td>man</td>\n",
       "      <td>True</td>\n",
       "      <td>NaN</td>\n",
       "      <td>Southampton</td>\n",
       "      <td>no</td>\n",
       "      <td>True</td>\n",
       "    </tr>\n",
       "    <tr>\n",
       "      <th>887</th>\n",
       "      <td>1</td>\n",
       "      <td>1</td>\n",
       "      <td>female</td>\n",
       "      <td>19.0</td>\n",
       "      <td>0</td>\n",
       "      <td>0</td>\n",
       "      <td>30.00</td>\n",
       "      <td>S</td>\n",
       "      <td>First</td>\n",
       "      <td>woman</td>\n",
       "      <td>False</td>\n",
       "      <td>B</td>\n",
       "      <td>Southampton</td>\n",
       "      <td>yes</td>\n",
       "      <td>True</td>\n",
       "    </tr>\n",
       "    <tr>\n",
       "      <th>888</th>\n",
       "      <td>0</td>\n",
       "      <td>3</td>\n",
       "      <td>female</td>\n",
       "      <td>NaN</td>\n",
       "      <td>1</td>\n",
       "      <td>2</td>\n",
       "      <td>23.45</td>\n",
       "      <td>S</td>\n",
       "      <td>Third</td>\n",
       "      <td>woman</td>\n",
       "      <td>False</td>\n",
       "      <td>NaN</td>\n",
       "      <td>Southampton</td>\n",
       "      <td>no</td>\n",
       "      <td>False</td>\n",
       "    </tr>\n",
       "    <tr>\n",
       "      <th>889</th>\n",
       "      <td>1</td>\n",
       "      <td>1</td>\n",
       "      <td>male</td>\n",
       "      <td>26.0</td>\n",
       "      <td>0</td>\n",
       "      <td>0</td>\n",
       "      <td>30.00</td>\n",
       "      <td>C</td>\n",
       "      <td>First</td>\n",
       "      <td>man</td>\n",
       "      <td>True</td>\n",
       "      <td>C</td>\n",
       "      <td>Cherbourg</td>\n",
       "      <td>yes</td>\n",
       "      <td>True</td>\n",
       "    </tr>\n",
       "    <tr>\n",
       "      <th>890</th>\n",
       "      <td>0</td>\n",
       "      <td>3</td>\n",
       "      <td>male</td>\n",
       "      <td>32.0</td>\n",
       "      <td>0</td>\n",
       "      <td>0</td>\n",
       "      <td>7.75</td>\n",
       "      <td>Q</td>\n",
       "      <td>Third</td>\n",
       "      <td>man</td>\n",
       "      <td>True</td>\n",
       "      <td>NaN</td>\n",
       "      <td>Queenstown</td>\n",
       "      <td>no</td>\n",
       "      <td>True</td>\n",
       "    </tr>\n",
       "  </tbody>\n",
       "</table>\n",
       "</div>"
      ],
      "text/plain": [
       "     survived  pclass     sex   age  sibsp  parch   fare embarked   class  \\\n",
       "886         0       2    male  27.0      0      0  13.00        S  Second   \n",
       "887         1       1  female  19.0      0      0  30.00        S   First   \n",
       "888         0       3  female   NaN      1      2  23.45        S   Third   \n",
       "889         1       1    male  26.0      0      0  30.00        C   First   \n",
       "890         0       3    male  32.0      0      0   7.75        Q   Third   \n",
       "\n",
       "       who  adult_male deck  embark_town alive  alone  \n",
       "886    man        True  NaN  Southampton    no   True  \n",
       "887  woman       False    B  Southampton   yes   True  \n",
       "888  woman       False  NaN  Southampton    no  False  \n",
       "889    man        True    C    Cherbourg   yes   True  \n",
       "890    man        True  NaN   Queenstown    no   True  "
      ]
     },
     "metadata": {},
     "output_type": "display_data"
    },
    {
     "name": "stdout",
     "output_type": "stream",
     "text": [
      "\n",
      "==================================================\n",
      "\n",
      "------------------------------\n",
      "Información:\n",
      "------------------------------\n",
      "<class 'pandas.core.frame.DataFrame'>\n",
      "RangeIndex: 891 entries, 0 to 890\n",
      "Data columns (total 15 columns):\n",
      " #   Column       Non-Null Count  Dtype   \n",
      "---  ------       --------------  -----   \n",
      " 0   survived     891 non-null    int64   \n",
      " 1   pclass       891 non-null    int64   \n",
      " 2   sex          891 non-null    object  \n",
      " 3   age          714 non-null    float64 \n",
      " 4   sibsp        891 non-null    int64   \n",
      " 5   parch        891 non-null    int64   \n",
      " 6   fare         891 non-null    float64 \n",
      " 7   embarked     889 non-null    object  \n",
      " 8   class        891 non-null    category\n",
      " 9   who          891 non-null    object  \n",
      " 10  adult_male   891 non-null    bool    \n",
      " 11  deck         203 non-null    category\n",
      " 12  embark_town  889 non-null    object  \n",
      " 13  alive        891 non-null    object  \n",
      " 14  alone        891 non-null    bool    \n",
      "dtypes: bool(2), category(2), float64(2), int64(4), object(5)\n",
      "memory usage: 80.7+ KB\n"
     ]
    },
    {
     "data": {
      "text/plain": [
       "None"
      ]
     },
     "metadata": {},
     "output_type": "display_data"
    },
    {
     "name": "stdout",
     "output_type": "stream",
     "text": [
      "------------------------------\n",
      "Dimensión:\n",
      "------------------------------\n"
     ]
    },
    {
     "data": {
      "text/plain": [
       "(891, 15)"
      ]
     },
     "metadata": {},
     "output_type": "display_data"
    },
    {
     "name": "stdout",
     "output_type": "stream",
     "text": [
      "------------------------------\n",
      "Columna y tipo de dato:\n",
      "------------------------------\n"
     ]
    },
    {
     "data": {
      "application/vnd.microsoft.datawrangler.viewer.v0+json": {
       "columns": [
        {
         "name": "index",
         "rawType": "object",
         "type": "string"
        },
        {
         "name": "Tipo de dato",
         "rawType": "object",
         "type": "unknown"
        }
       ],
       "ref": "ff94be0f-d834-4457-91c7-96c14839ad7e",
       "rows": [
        [
         "survived",
         "int64"
        ],
        [
         "pclass",
         "int64"
        ],
        [
         "sex",
         "object"
        ],
        [
         "age",
         "float64"
        ],
        [
         "sibsp",
         "int64"
        ],
        [
         "parch",
         "int64"
        ],
        [
         "fare",
         "float64"
        ],
        [
         "embarked",
         "object"
        ],
        [
         "class",
         "category"
        ],
        [
         "who",
         "object"
        ],
        [
         "adult_male",
         "bool"
        ],
        [
         "deck",
         "category"
        ],
        [
         "embark_town",
         "object"
        ],
        [
         "alive",
         "object"
        ],
        [
         "alone",
         "bool"
        ]
       ],
       "shape": {
        "columns": 1,
        "rows": 15
       }
      },
      "text/html": [
       "<div>\n",
       "<style scoped>\n",
       "    .dataframe tbody tr th:only-of-type {\n",
       "        vertical-align: middle;\n",
       "    }\n",
       "\n",
       "    .dataframe tbody tr th {\n",
       "        vertical-align: top;\n",
       "    }\n",
       "\n",
       "    .dataframe thead th {\n",
       "        text-align: right;\n",
       "    }\n",
       "</style>\n",
       "<table border=\"1\" class=\"dataframe\">\n",
       "  <thead>\n",
       "    <tr style=\"text-align: right;\">\n",
       "      <th></th>\n",
       "      <th>Tipo de dato</th>\n",
       "    </tr>\n",
       "  </thead>\n",
       "  <tbody>\n",
       "    <tr>\n",
       "      <th>survived</th>\n",
       "      <td>int64</td>\n",
       "    </tr>\n",
       "    <tr>\n",
       "      <th>pclass</th>\n",
       "      <td>int64</td>\n",
       "    </tr>\n",
       "    <tr>\n",
       "      <th>sex</th>\n",
       "      <td>object</td>\n",
       "    </tr>\n",
       "    <tr>\n",
       "      <th>age</th>\n",
       "      <td>float64</td>\n",
       "    </tr>\n",
       "    <tr>\n",
       "      <th>sibsp</th>\n",
       "      <td>int64</td>\n",
       "    </tr>\n",
       "    <tr>\n",
       "      <th>parch</th>\n",
       "      <td>int64</td>\n",
       "    </tr>\n",
       "    <tr>\n",
       "      <th>fare</th>\n",
       "      <td>float64</td>\n",
       "    </tr>\n",
       "    <tr>\n",
       "      <th>embarked</th>\n",
       "      <td>object</td>\n",
       "    </tr>\n",
       "    <tr>\n",
       "      <th>class</th>\n",
       "      <td>category</td>\n",
       "    </tr>\n",
       "    <tr>\n",
       "      <th>who</th>\n",
       "      <td>object</td>\n",
       "    </tr>\n",
       "    <tr>\n",
       "      <th>adult_male</th>\n",
       "      <td>bool</td>\n",
       "    </tr>\n",
       "    <tr>\n",
       "      <th>deck</th>\n",
       "      <td>category</td>\n",
       "    </tr>\n",
       "    <tr>\n",
       "      <th>embark_town</th>\n",
       "      <td>object</td>\n",
       "    </tr>\n",
       "    <tr>\n",
       "      <th>alive</th>\n",
       "      <td>object</td>\n",
       "    </tr>\n",
       "    <tr>\n",
       "      <th>alone</th>\n",
       "      <td>bool</td>\n",
       "    </tr>\n",
       "  </tbody>\n",
       "</table>\n",
       "</div>"
      ],
      "text/plain": [
       "            Tipo de dato\n",
       "survived           int64\n",
       "pclass             int64\n",
       "sex               object\n",
       "age              float64\n",
       "sibsp              int64\n",
       "parch              int64\n",
       "fare             float64\n",
       "embarked          object\n",
       "class           category\n",
       "who               object\n",
       "adult_male          bool\n",
       "deck            category\n",
       "embark_town       object\n",
       "alive             object\n",
       "alone               bool"
      ]
     },
     "metadata": {},
     "output_type": "display_data"
    },
    {
     "name": "stdout",
     "output_type": "stream",
     "text": [
      "\n",
      "==================================================\n",
      "\n",
      "------------------------------\n",
      "Descripción estadística:\n",
      "------------------------------\n"
     ]
    },
    {
     "data": {
      "application/vnd.microsoft.datawrangler.viewer.v0+json": {
       "columns": [
        {
         "name": "index",
         "rawType": "object",
         "type": "string"
        },
        {
         "name": "count",
         "rawType": "object",
         "type": "unknown"
        },
        {
         "name": "unique",
         "rawType": "int64",
         "type": "integer"
        },
        {
         "name": "mode",
         "rawType": "object",
         "type": "unknown"
        },
        {
         "name": "var",
         "rawType": "float64",
         "type": "float"
        },
        {
         "name": "mean",
         "rawType": "object",
         "type": "unknown"
        },
        {
         "name": "std",
         "rawType": "object",
         "type": "unknown"
        },
        {
         "name": "min",
         "rawType": "object",
         "type": "unknown"
        },
        {
         "name": "25%",
         "rawType": "object",
         "type": "unknown"
        },
        {
         "name": "50%",
         "rawType": "object",
         "type": "unknown"
        },
        {
         "name": "75%",
         "rawType": "object",
         "type": "unknown"
        },
        {
         "name": "max",
         "rawType": "object",
         "type": "unknown"
        },
        {
         "name": "range",
         "rawType": "float64",
         "type": "float"
        }
       ],
       "ref": "f227a5d3-98cc-4d02-9d98-e5c1e82f7388",
       "rows": [
        [
         "survived",
         "891.0",
         "2",
         "0",
         "0.23677221654749742",
         "0.3838383838383838",
         "0.4865924542648575",
         "0.0",
         "0.0",
         "0.0",
         "1.0",
         "1.0",
         "1.0"
        ],
        [
         "pclass",
         "891.0",
         "3",
         "3",
         "0.6990151199889028",
         "2.308641975308642",
         "0.836071240977049",
         "1.0",
         "2.0",
         "3.0",
         "3.0",
         "3.0",
         "2.0"
        ],
        [
         "sex",
         "891",
         "2",
         "male",
         null,
         null,
         null,
         null,
         null,
         null,
         null,
         null,
         null
        ],
        [
         "age",
         "714.0",
         "88",
         "24.0",
         "211.01912474630802",
         "29.69911764705882",
         "14.526497332334042",
         "0.42",
         "20.125",
         "28.0",
         "38.0",
         "80.0",
         "79.58"
        ],
        [
         "sibsp",
         "891.0",
         "7",
         "0",
         "1.2160430774662985",
         "0.5230078563411896",
         "1.1027434322934317",
         "0.0",
         "0.0",
         "0.0",
         "1.0",
         "8.0",
         "8.0"
        ],
        [
         "parch",
         "891.0",
         "7",
         "0",
         "0.6497282437357343",
         "0.38159371492704824",
         "0.8060572211299483",
         "0.0",
         "0.0",
         "0.0",
         "0.0",
         "6.0",
         "6.0"
        ],
        [
         "fare",
         "891.0",
         "248",
         "8.05",
         "2469.436845743116",
         "32.204207968574636",
         "49.6934285971809",
         "0.0",
         "7.9104",
         "14.4542",
         "31.0",
         "512.3292",
         "512.3292"
        ],
        [
         "embarked",
         "889",
         "3",
         "S",
         null,
         null,
         null,
         null,
         null,
         null,
         null,
         null,
         null
        ],
        [
         "class",
         "891",
         "3",
         "Third",
         null,
         null,
         null,
         null,
         null,
         null,
         null,
         null,
         null
        ],
        [
         "who",
         "891",
         "3",
         "man",
         null,
         null,
         null,
         null,
         null,
         null,
         null,
         null,
         null
        ],
        [
         "adult_male",
         "891",
         "2",
         "True",
         null,
         null,
         null,
         null,
         null,
         null,
         null,
         null,
         null
        ],
        [
         "deck",
         "203",
         "7",
         "C",
         null,
         null,
         null,
         null,
         null,
         null,
         null,
         null,
         null
        ],
        [
         "embark_town",
         "889",
         "3",
         "Southampton",
         null,
         null,
         null,
         null,
         null,
         null,
         null,
         null,
         null
        ],
        [
         "alive",
         "891",
         "2",
         "no",
         null,
         null,
         null,
         null,
         null,
         null,
         null,
         null,
         null
        ],
        [
         "alone",
         "891",
         "2",
         "True",
         null,
         null,
         null,
         null,
         null,
         null,
         null,
         null,
         null
        ]
       ],
       "shape": {
        "columns": 12,
        "rows": 15
       }
      },
      "text/html": [
       "<div>\n",
       "<style scoped>\n",
       "    .dataframe tbody tr th:only-of-type {\n",
       "        vertical-align: middle;\n",
       "    }\n",
       "\n",
       "    .dataframe tbody tr th {\n",
       "        vertical-align: top;\n",
       "    }\n",
       "\n",
       "    .dataframe thead th {\n",
       "        text-align: right;\n",
       "    }\n",
       "</style>\n",
       "<table border=\"1\" class=\"dataframe\">\n",
       "  <thead>\n",
       "    <tr style=\"text-align: right;\">\n",
       "      <th></th>\n",
       "      <th>count</th>\n",
       "      <th>unique</th>\n",
       "      <th>mode</th>\n",
       "      <th>var</th>\n",
       "      <th>mean</th>\n",
       "      <th>std</th>\n",
       "      <th>min</th>\n",
       "      <th>25%</th>\n",
       "      <th>50%</th>\n",
       "      <th>75%</th>\n",
       "      <th>max</th>\n",
       "      <th>range</th>\n",
       "    </tr>\n",
       "  </thead>\n",
       "  <tbody>\n",
       "    <tr>\n",
       "      <th>survived</th>\n",
       "      <td>891.0</td>\n",
       "      <td>2</td>\n",
       "      <td>0</td>\n",
       "      <td>0.236772</td>\n",
       "      <td>0.383838</td>\n",
       "      <td>0.486592</td>\n",
       "      <td>0.0</td>\n",
       "      <td>0.0</td>\n",
       "      <td>0.0</td>\n",
       "      <td>1.0</td>\n",
       "      <td>1.0</td>\n",
       "      <td>1.0000</td>\n",
       "    </tr>\n",
       "    <tr>\n",
       "      <th>pclass</th>\n",
       "      <td>891.0</td>\n",
       "      <td>3</td>\n",
       "      <td>3</td>\n",
       "      <td>0.699015</td>\n",
       "      <td>2.308642</td>\n",
       "      <td>0.836071</td>\n",
       "      <td>1.0</td>\n",
       "      <td>2.0</td>\n",
       "      <td>3.0</td>\n",
       "      <td>3.0</td>\n",
       "      <td>3.0</td>\n",
       "      <td>2.0000</td>\n",
       "    </tr>\n",
       "    <tr>\n",
       "      <th>sex</th>\n",
       "      <td>891</td>\n",
       "      <td>2</td>\n",
       "      <td>male</td>\n",
       "      <td>NaN</td>\n",
       "      <td>NaN</td>\n",
       "      <td>NaN</td>\n",
       "      <td>NaN</td>\n",
       "      <td>NaN</td>\n",
       "      <td>NaN</td>\n",
       "      <td>NaN</td>\n",
       "      <td>NaN</td>\n",
       "      <td>NaN</td>\n",
       "    </tr>\n",
       "    <tr>\n",
       "      <th>age</th>\n",
       "      <td>714.0</td>\n",
       "      <td>88</td>\n",
       "      <td>24.0</td>\n",
       "      <td>211.019125</td>\n",
       "      <td>29.699118</td>\n",
       "      <td>14.526497</td>\n",
       "      <td>0.42</td>\n",
       "      <td>20.125</td>\n",
       "      <td>28.0</td>\n",
       "      <td>38.0</td>\n",
       "      <td>80.0</td>\n",
       "      <td>79.5800</td>\n",
       "    </tr>\n",
       "    <tr>\n",
       "      <th>sibsp</th>\n",
       "      <td>891.0</td>\n",
       "      <td>7</td>\n",
       "      <td>0</td>\n",
       "      <td>1.216043</td>\n",
       "      <td>0.523008</td>\n",
       "      <td>1.102743</td>\n",
       "      <td>0.0</td>\n",
       "      <td>0.0</td>\n",
       "      <td>0.0</td>\n",
       "      <td>1.0</td>\n",
       "      <td>8.0</td>\n",
       "      <td>8.0000</td>\n",
       "    </tr>\n",
       "    <tr>\n",
       "      <th>parch</th>\n",
       "      <td>891.0</td>\n",
       "      <td>7</td>\n",
       "      <td>0</td>\n",
       "      <td>0.649728</td>\n",
       "      <td>0.381594</td>\n",
       "      <td>0.806057</td>\n",
       "      <td>0.0</td>\n",
       "      <td>0.0</td>\n",
       "      <td>0.0</td>\n",
       "      <td>0.0</td>\n",
       "      <td>6.0</td>\n",
       "      <td>6.0000</td>\n",
       "    </tr>\n",
       "    <tr>\n",
       "      <th>fare</th>\n",
       "      <td>891.0</td>\n",
       "      <td>248</td>\n",
       "      <td>8.05</td>\n",
       "      <td>2469.436846</td>\n",
       "      <td>32.204208</td>\n",
       "      <td>49.693429</td>\n",
       "      <td>0.0</td>\n",
       "      <td>7.9104</td>\n",
       "      <td>14.4542</td>\n",
       "      <td>31.0</td>\n",
       "      <td>512.3292</td>\n",
       "      <td>512.3292</td>\n",
       "    </tr>\n",
       "    <tr>\n",
       "      <th>embarked</th>\n",
       "      <td>889</td>\n",
       "      <td>3</td>\n",
       "      <td>S</td>\n",
       "      <td>NaN</td>\n",
       "      <td>NaN</td>\n",
       "      <td>NaN</td>\n",
       "      <td>NaN</td>\n",
       "      <td>NaN</td>\n",
       "      <td>NaN</td>\n",
       "      <td>NaN</td>\n",
       "      <td>NaN</td>\n",
       "      <td>NaN</td>\n",
       "    </tr>\n",
       "    <tr>\n",
       "      <th>class</th>\n",
       "      <td>891</td>\n",
       "      <td>3</td>\n",
       "      <td>Third</td>\n",
       "      <td>NaN</td>\n",
       "      <td>NaN</td>\n",
       "      <td>NaN</td>\n",
       "      <td>NaN</td>\n",
       "      <td>NaN</td>\n",
       "      <td>NaN</td>\n",
       "      <td>NaN</td>\n",
       "      <td>NaN</td>\n",
       "      <td>NaN</td>\n",
       "    </tr>\n",
       "    <tr>\n",
       "      <th>who</th>\n",
       "      <td>891</td>\n",
       "      <td>3</td>\n",
       "      <td>man</td>\n",
       "      <td>NaN</td>\n",
       "      <td>NaN</td>\n",
       "      <td>NaN</td>\n",
       "      <td>NaN</td>\n",
       "      <td>NaN</td>\n",
       "      <td>NaN</td>\n",
       "      <td>NaN</td>\n",
       "      <td>NaN</td>\n",
       "      <td>NaN</td>\n",
       "    </tr>\n",
       "    <tr>\n",
       "      <th>adult_male</th>\n",
       "      <td>891</td>\n",
       "      <td>2</td>\n",
       "      <td>True</td>\n",
       "      <td>NaN</td>\n",
       "      <td>NaN</td>\n",
       "      <td>NaN</td>\n",
       "      <td>NaN</td>\n",
       "      <td>NaN</td>\n",
       "      <td>NaN</td>\n",
       "      <td>NaN</td>\n",
       "      <td>NaN</td>\n",
       "      <td>NaN</td>\n",
       "    </tr>\n",
       "    <tr>\n",
       "      <th>deck</th>\n",
       "      <td>203</td>\n",
       "      <td>7</td>\n",
       "      <td>C</td>\n",
       "      <td>NaN</td>\n",
       "      <td>NaN</td>\n",
       "      <td>NaN</td>\n",
       "      <td>NaN</td>\n",
       "      <td>NaN</td>\n",
       "      <td>NaN</td>\n",
       "      <td>NaN</td>\n",
       "      <td>NaN</td>\n",
       "      <td>NaN</td>\n",
       "    </tr>\n",
       "    <tr>\n",
       "      <th>embark_town</th>\n",
       "      <td>889</td>\n",
       "      <td>3</td>\n",
       "      <td>Southampton</td>\n",
       "      <td>NaN</td>\n",
       "      <td>NaN</td>\n",
       "      <td>NaN</td>\n",
       "      <td>NaN</td>\n",
       "      <td>NaN</td>\n",
       "      <td>NaN</td>\n",
       "      <td>NaN</td>\n",
       "      <td>NaN</td>\n",
       "      <td>NaN</td>\n",
       "    </tr>\n",
       "    <tr>\n",
       "      <th>alive</th>\n",
       "      <td>891</td>\n",
       "      <td>2</td>\n",
       "      <td>no</td>\n",
       "      <td>NaN</td>\n",
       "      <td>NaN</td>\n",
       "      <td>NaN</td>\n",
       "      <td>NaN</td>\n",
       "      <td>NaN</td>\n",
       "      <td>NaN</td>\n",
       "      <td>NaN</td>\n",
       "      <td>NaN</td>\n",
       "      <td>NaN</td>\n",
       "    </tr>\n",
       "    <tr>\n",
       "      <th>alone</th>\n",
       "      <td>891</td>\n",
       "      <td>2</td>\n",
       "      <td>True</td>\n",
       "      <td>NaN</td>\n",
       "      <td>NaN</td>\n",
       "      <td>NaN</td>\n",
       "      <td>NaN</td>\n",
       "      <td>NaN</td>\n",
       "      <td>NaN</td>\n",
       "      <td>NaN</td>\n",
       "      <td>NaN</td>\n",
       "      <td>NaN</td>\n",
       "    </tr>\n",
       "  </tbody>\n",
       "</table>\n",
       "</div>"
      ],
      "text/plain": [
       "             count  unique         mode          var       mean        std  \\\n",
       "survived     891.0       2            0     0.236772   0.383838   0.486592   \n",
       "pclass       891.0       3            3     0.699015   2.308642   0.836071   \n",
       "sex            891       2         male          NaN        NaN        NaN   \n",
       "age          714.0      88         24.0   211.019125  29.699118  14.526497   \n",
       "sibsp        891.0       7            0     1.216043   0.523008   1.102743   \n",
       "parch        891.0       7            0     0.649728   0.381594   0.806057   \n",
       "fare         891.0     248         8.05  2469.436846  32.204208  49.693429   \n",
       "embarked       889       3            S          NaN        NaN        NaN   \n",
       "class          891       3        Third          NaN        NaN        NaN   \n",
       "who            891       3          man          NaN        NaN        NaN   \n",
       "adult_male     891       2         True          NaN        NaN        NaN   \n",
       "deck           203       7            C          NaN        NaN        NaN   \n",
       "embark_town    889       3  Southampton          NaN        NaN        NaN   \n",
       "alive          891       2           no          NaN        NaN        NaN   \n",
       "alone          891       2         True          NaN        NaN        NaN   \n",
       "\n",
       "              min     25%      50%   75%       max     range  \n",
       "survived      0.0     0.0      0.0   1.0       1.0    1.0000  \n",
       "pclass        1.0     2.0      3.0   3.0       3.0    2.0000  \n",
       "sex           NaN     NaN      NaN   NaN       NaN       NaN  \n",
       "age          0.42  20.125     28.0  38.0      80.0   79.5800  \n",
       "sibsp         0.0     0.0      0.0   1.0       8.0    8.0000  \n",
       "parch         0.0     0.0      0.0   0.0       6.0    6.0000  \n",
       "fare          0.0  7.9104  14.4542  31.0  512.3292  512.3292  \n",
       "embarked      NaN     NaN      NaN   NaN       NaN       NaN  \n",
       "class         NaN     NaN      NaN   NaN       NaN       NaN  \n",
       "who           NaN     NaN      NaN   NaN       NaN       NaN  \n",
       "adult_male    NaN     NaN      NaN   NaN       NaN       NaN  \n",
       "deck          NaN     NaN      NaN   NaN       NaN       NaN  \n",
       "embark_town   NaN     NaN      NaN   NaN       NaN       NaN  \n",
       "alive         NaN     NaN      NaN   NaN       NaN       NaN  \n",
       "alone         NaN     NaN      NaN   NaN       NaN       NaN  "
      ]
     },
     "metadata": {},
     "output_type": "display_data"
    },
    {
     "name": "stdout",
     "output_type": "stream",
     "text": [
      "\n",
      "==================================================\n",
      "\n",
      "------------------------------\n",
      "Distribución:\n",
      "------------------------------\n",
      "\n",
      " ° survived:\n"
     ]
    },
    {
     "data": {
      "application/vnd.microsoft.datawrangler.viewer.v0+json": {
       "columns": [
        {
         "name": "survived",
         "rawType": "int64",
         "type": "integer"
        },
        {
         "name": "Conteo",
         "rawType": "int64",
         "type": "integer"
        },
        {
         "name": "Porcentaje",
         "rawType": "float64",
         "type": "float"
        }
       ],
       "ref": "8cb61ace-168b-4b73-a553-15c4a70a1db3",
       "rows": [
        [
         "0",
         "549",
         "61.62"
        ],
        [
         "1",
         "342",
         "38.38"
        ]
       ],
       "shape": {
        "columns": 2,
        "rows": 2
       }
      },
      "text/html": [
       "<div>\n",
       "<style scoped>\n",
       "    .dataframe tbody tr th:only-of-type {\n",
       "        vertical-align: middle;\n",
       "    }\n",
       "\n",
       "    .dataframe tbody tr th {\n",
       "        vertical-align: top;\n",
       "    }\n",
       "\n",
       "    .dataframe thead th {\n",
       "        text-align: right;\n",
       "    }\n",
       "</style>\n",
       "<table border=\"1\" class=\"dataframe\">\n",
       "  <thead>\n",
       "    <tr style=\"text-align: right;\">\n",
       "      <th></th>\n",
       "      <th>Conteo</th>\n",
       "      <th>Porcentaje</th>\n",
       "    </tr>\n",
       "    <tr>\n",
       "      <th>survived</th>\n",
       "      <th></th>\n",
       "      <th></th>\n",
       "    </tr>\n",
       "  </thead>\n",
       "  <tbody>\n",
       "    <tr>\n",
       "      <th>0</th>\n",
       "      <td>549</td>\n",
       "      <td>61.62</td>\n",
       "    </tr>\n",
       "    <tr>\n",
       "      <th>1</th>\n",
       "      <td>342</td>\n",
       "      <td>38.38</td>\n",
       "    </tr>\n",
       "  </tbody>\n",
       "</table>\n",
       "</div>"
      ],
      "text/plain": [
       "          Conteo  Porcentaje\n",
       "survived                    \n",
       "0            549       61.62\n",
       "1            342       38.38"
      ]
     },
     "metadata": {},
     "output_type": "display_data"
    },
    {
     "name": "stdout",
     "output_type": "stream",
     "text": [
      "\n",
      " ° pclass:\n"
     ]
    },
    {
     "data": {
      "application/vnd.microsoft.datawrangler.viewer.v0+json": {
       "columns": [
        {
         "name": "pclass",
         "rawType": "int64",
         "type": "integer"
        },
        {
         "name": "Conteo",
         "rawType": "int64",
         "type": "integer"
        },
        {
         "name": "Porcentaje",
         "rawType": "float64",
         "type": "float"
        }
       ],
       "ref": "49796ac5-49ee-4bd0-ae0e-3d0736245e5e",
       "rows": [
        [
         "3",
         "491",
         "55.11"
        ],
        [
         "1",
         "216",
         "24.24"
        ],
        [
         "2",
         "184",
         "20.65"
        ]
       ],
       "shape": {
        "columns": 2,
        "rows": 3
       }
      },
      "text/html": [
       "<div>\n",
       "<style scoped>\n",
       "    .dataframe tbody tr th:only-of-type {\n",
       "        vertical-align: middle;\n",
       "    }\n",
       "\n",
       "    .dataframe tbody tr th {\n",
       "        vertical-align: top;\n",
       "    }\n",
       "\n",
       "    .dataframe thead th {\n",
       "        text-align: right;\n",
       "    }\n",
       "</style>\n",
       "<table border=\"1\" class=\"dataframe\">\n",
       "  <thead>\n",
       "    <tr style=\"text-align: right;\">\n",
       "      <th></th>\n",
       "      <th>Conteo</th>\n",
       "      <th>Porcentaje</th>\n",
       "    </tr>\n",
       "    <tr>\n",
       "      <th>pclass</th>\n",
       "      <th></th>\n",
       "      <th></th>\n",
       "    </tr>\n",
       "  </thead>\n",
       "  <tbody>\n",
       "    <tr>\n",
       "      <th>3</th>\n",
       "      <td>491</td>\n",
       "      <td>55.11</td>\n",
       "    </tr>\n",
       "    <tr>\n",
       "      <th>1</th>\n",
       "      <td>216</td>\n",
       "      <td>24.24</td>\n",
       "    </tr>\n",
       "    <tr>\n",
       "      <th>2</th>\n",
       "      <td>184</td>\n",
       "      <td>20.65</td>\n",
       "    </tr>\n",
       "  </tbody>\n",
       "</table>\n",
       "</div>"
      ],
      "text/plain": [
       "        Conteo  Porcentaje\n",
       "pclass                    \n",
       "3          491       55.11\n",
       "1          216       24.24\n",
       "2          184       20.65"
      ]
     },
     "metadata": {},
     "output_type": "display_data"
    },
    {
     "name": "stdout",
     "output_type": "stream",
     "text": [
      "\n",
      " ° sex:\n"
     ]
    },
    {
     "data": {
      "application/vnd.microsoft.datawrangler.viewer.v0+json": {
       "columns": [
        {
         "name": "sex",
         "rawType": "object",
         "type": "string"
        },
        {
         "name": "Conteo",
         "rawType": "int64",
         "type": "integer"
        },
        {
         "name": "Porcentaje",
         "rawType": "float64",
         "type": "float"
        }
       ],
       "ref": "1d17260b-5531-4bb2-b4cd-462b424a71b1",
       "rows": [
        [
         "male",
         "577",
         "64.76"
        ],
        [
         "female",
         "314",
         "35.24"
        ]
       ],
       "shape": {
        "columns": 2,
        "rows": 2
       }
      },
      "text/html": [
       "<div>\n",
       "<style scoped>\n",
       "    .dataframe tbody tr th:only-of-type {\n",
       "        vertical-align: middle;\n",
       "    }\n",
       "\n",
       "    .dataframe tbody tr th {\n",
       "        vertical-align: top;\n",
       "    }\n",
       "\n",
       "    .dataframe thead th {\n",
       "        text-align: right;\n",
       "    }\n",
       "</style>\n",
       "<table border=\"1\" class=\"dataframe\">\n",
       "  <thead>\n",
       "    <tr style=\"text-align: right;\">\n",
       "      <th></th>\n",
       "      <th>Conteo</th>\n",
       "      <th>Porcentaje</th>\n",
       "    </tr>\n",
       "    <tr>\n",
       "      <th>sex</th>\n",
       "      <th></th>\n",
       "      <th></th>\n",
       "    </tr>\n",
       "  </thead>\n",
       "  <tbody>\n",
       "    <tr>\n",
       "      <th>male</th>\n",
       "      <td>577</td>\n",
       "      <td>64.76</td>\n",
       "    </tr>\n",
       "    <tr>\n",
       "      <th>female</th>\n",
       "      <td>314</td>\n",
       "      <td>35.24</td>\n",
       "    </tr>\n",
       "  </tbody>\n",
       "</table>\n",
       "</div>"
      ],
      "text/plain": [
       "        Conteo  Porcentaje\n",
       "sex                       \n",
       "male       577       64.76\n",
       "female     314       35.24"
      ]
     },
     "metadata": {},
     "output_type": "display_data"
    },
    {
     "name": "stdout",
     "output_type": "stream",
     "text": [
      "\n",
      " ° age:\n"
     ]
    },
    {
     "data": {
      "application/vnd.microsoft.datawrangler.viewer.v0+json": {
       "columns": [
        {
         "name": "age",
         "rawType": "float64",
         "type": "float"
        },
        {
         "name": "Conteo",
         "rawType": "int64",
         "type": "integer"
        },
        {
         "name": "Porcentaje",
         "rawType": "float64",
         "type": "float"
        }
       ],
       "ref": "bb7c1202-f022-4659-8180-cd76cdacd3b2",
       "rows": [
        [
         "24.0",
         "30",
         "4.2"
        ],
        [
         "22.0",
         "27",
         "3.78"
        ],
        [
         "18.0",
         "26",
         "3.64"
        ],
        [
         "19.0",
         "25",
         "3.5"
        ],
        [
         "28.0",
         "25",
         "3.5"
        ],
        [
         "30.0",
         "25",
         "3.5"
        ],
        [
         "21.0",
         "24",
         "3.36"
        ],
        [
         "25.0",
         "23",
         "3.22"
        ],
        [
         "36.0",
         "22",
         "3.08"
        ],
        [
         "29.0",
         "20",
         "2.8"
        ],
        [
         "32.0",
         "18",
         "2.52"
        ],
        [
         "35.0",
         "18",
         "2.52"
        ],
        [
         "27.0",
         "18",
         "2.52"
        ],
        [
         "26.0",
         "18",
         "2.52"
        ],
        [
         "16.0",
         "17",
         "2.38"
        ],
        [
         "31.0",
         "17",
         "2.38"
        ],
        [
         "20.0",
         "15",
         "2.1"
        ],
        [
         "34.0",
         "15",
         "2.1"
        ],
        [
         "33.0",
         "15",
         "2.1"
        ],
        [
         "23.0",
         "15",
         "2.1"
        ],
        [
         "39.0",
         "14",
         "1.96"
        ],
        [
         "40.0",
         "13",
         "1.82"
        ],
        [
         "17.0",
         "13",
         "1.82"
        ],
        [
         "42.0",
         "13",
         "1.82"
        ],
        [
         "45.0",
         "12",
         "1.68"
        ],
        [
         "38.0",
         "11",
         "1.54"
        ],
        [
         "50.0",
         "10",
         "1.4"
        ],
        [
         "2.0",
         "10",
         "1.4"
        ],
        [
         "4.0",
         "10",
         "1.4"
        ],
        [
         "44.0",
         "9",
         "1.26"
        ],
        [
         "48.0",
         "9",
         "1.26"
        ],
        [
         "47.0",
         "9",
         "1.26"
        ],
        [
         "54.0",
         "8",
         "1.12"
        ],
        [
         "9.0",
         "8",
         "1.12"
        ],
        [
         "1.0",
         "7",
         "0.98"
        ],
        [
         "51.0",
         "7",
         "0.98"
        ],
        [
         "14.0",
         "6",
         "0.84"
        ],
        [
         "52.0",
         "6",
         "0.84"
        ],
        [
         "37.0",
         "6",
         "0.84"
        ],
        [
         "49.0",
         "6",
         "0.84"
        ],
        [
         "41.0",
         "6",
         "0.84"
        ],
        [
         "3.0",
         "6",
         "0.84"
        ],
        [
         "58.0",
         "5",
         "0.7"
        ],
        [
         "15.0",
         "5",
         "0.7"
        ],
        [
         "43.0",
         "5",
         "0.7"
        ],
        [
         "62.0",
         "4",
         "0.56"
        ],
        [
         "56.0",
         "4",
         "0.56"
        ],
        [
         "5.0",
         "4",
         "0.56"
        ],
        [
         "11.0",
         "4",
         "0.56"
        ],
        [
         "60.0",
         "4",
         "0.56"
        ]
       ],
       "shape": {
        "columns": 2,
        "rows": 88
       }
      },
      "text/html": [
       "<div>\n",
       "<style scoped>\n",
       "    .dataframe tbody tr th:only-of-type {\n",
       "        vertical-align: middle;\n",
       "    }\n",
       "\n",
       "    .dataframe tbody tr th {\n",
       "        vertical-align: top;\n",
       "    }\n",
       "\n",
       "    .dataframe thead th {\n",
       "        text-align: right;\n",
       "    }\n",
       "</style>\n",
       "<table border=\"1\" class=\"dataframe\">\n",
       "  <thead>\n",
       "    <tr style=\"text-align: right;\">\n",
       "      <th></th>\n",
       "      <th>Conteo</th>\n",
       "      <th>Porcentaje</th>\n",
       "    </tr>\n",
       "    <tr>\n",
       "      <th>age</th>\n",
       "      <th></th>\n",
       "      <th></th>\n",
       "    </tr>\n",
       "  </thead>\n",
       "  <tbody>\n",
       "    <tr>\n",
       "      <th>24.00</th>\n",
       "      <td>30</td>\n",
       "      <td>4.20</td>\n",
       "    </tr>\n",
       "    <tr>\n",
       "      <th>22.00</th>\n",
       "      <td>27</td>\n",
       "      <td>3.78</td>\n",
       "    </tr>\n",
       "    <tr>\n",
       "      <th>18.00</th>\n",
       "      <td>26</td>\n",
       "      <td>3.64</td>\n",
       "    </tr>\n",
       "    <tr>\n",
       "      <th>19.00</th>\n",
       "      <td>25</td>\n",
       "      <td>3.50</td>\n",
       "    </tr>\n",
       "    <tr>\n",
       "      <th>28.00</th>\n",
       "      <td>25</td>\n",
       "      <td>3.50</td>\n",
       "    </tr>\n",
       "    <tr>\n",
       "      <th>...</th>\n",
       "      <td>...</td>\n",
       "      <td>...</td>\n",
       "    </tr>\n",
       "    <tr>\n",
       "      <th>36.50</th>\n",
       "      <td>1</td>\n",
       "      <td>0.14</td>\n",
       "    </tr>\n",
       "    <tr>\n",
       "      <th>55.50</th>\n",
       "      <td>1</td>\n",
       "      <td>0.14</td>\n",
       "    </tr>\n",
       "    <tr>\n",
       "      <th>0.92</th>\n",
       "      <td>1</td>\n",
       "      <td>0.14</td>\n",
       "    </tr>\n",
       "    <tr>\n",
       "      <th>23.50</th>\n",
       "      <td>1</td>\n",
       "      <td>0.14</td>\n",
       "    </tr>\n",
       "    <tr>\n",
       "      <th>74.00</th>\n",
       "      <td>1</td>\n",
       "      <td>0.14</td>\n",
       "    </tr>\n",
       "  </tbody>\n",
       "</table>\n",
       "<p>88 rows × 2 columns</p>\n",
       "</div>"
      ],
      "text/plain": [
       "       Conteo  Porcentaje\n",
       "age                      \n",
       "24.00      30        4.20\n",
       "22.00      27        3.78\n",
       "18.00      26        3.64\n",
       "19.00      25        3.50\n",
       "28.00      25        3.50\n",
       "...       ...         ...\n",
       "36.50       1        0.14\n",
       "55.50       1        0.14\n",
       "0.92        1        0.14\n",
       "23.50       1        0.14\n",
       "74.00       1        0.14\n",
       "\n",
       "[88 rows x 2 columns]"
      ]
     },
     "metadata": {},
     "output_type": "display_data"
    },
    {
     "name": "stdout",
     "output_type": "stream",
     "text": [
      "\n",
      " ° sibsp:\n"
     ]
    },
    {
     "data": {
      "application/vnd.microsoft.datawrangler.viewer.v0+json": {
       "columns": [
        {
         "name": "sibsp",
         "rawType": "int64",
         "type": "integer"
        },
        {
         "name": "Conteo",
         "rawType": "int64",
         "type": "integer"
        },
        {
         "name": "Porcentaje",
         "rawType": "float64",
         "type": "float"
        }
       ],
       "ref": "8df2b81d-40b0-475f-a78f-b180f9dbd58c",
       "rows": [
        [
         "0",
         "608",
         "68.24"
        ],
        [
         "1",
         "209",
         "23.46"
        ],
        [
         "2",
         "28",
         "3.14"
        ],
        [
         "4",
         "18",
         "2.02"
        ],
        [
         "3",
         "16",
         "1.8"
        ],
        [
         "8",
         "7",
         "0.79"
        ],
        [
         "5",
         "5",
         "0.56"
        ]
       ],
       "shape": {
        "columns": 2,
        "rows": 7
       }
      },
      "text/html": [
       "<div>\n",
       "<style scoped>\n",
       "    .dataframe tbody tr th:only-of-type {\n",
       "        vertical-align: middle;\n",
       "    }\n",
       "\n",
       "    .dataframe tbody tr th {\n",
       "        vertical-align: top;\n",
       "    }\n",
       "\n",
       "    .dataframe thead th {\n",
       "        text-align: right;\n",
       "    }\n",
       "</style>\n",
       "<table border=\"1\" class=\"dataframe\">\n",
       "  <thead>\n",
       "    <tr style=\"text-align: right;\">\n",
       "      <th></th>\n",
       "      <th>Conteo</th>\n",
       "      <th>Porcentaje</th>\n",
       "    </tr>\n",
       "    <tr>\n",
       "      <th>sibsp</th>\n",
       "      <th></th>\n",
       "      <th></th>\n",
       "    </tr>\n",
       "  </thead>\n",
       "  <tbody>\n",
       "    <tr>\n",
       "      <th>0</th>\n",
       "      <td>608</td>\n",
       "      <td>68.24</td>\n",
       "    </tr>\n",
       "    <tr>\n",
       "      <th>1</th>\n",
       "      <td>209</td>\n",
       "      <td>23.46</td>\n",
       "    </tr>\n",
       "    <tr>\n",
       "      <th>2</th>\n",
       "      <td>28</td>\n",
       "      <td>3.14</td>\n",
       "    </tr>\n",
       "    <tr>\n",
       "      <th>4</th>\n",
       "      <td>18</td>\n",
       "      <td>2.02</td>\n",
       "    </tr>\n",
       "    <tr>\n",
       "      <th>3</th>\n",
       "      <td>16</td>\n",
       "      <td>1.80</td>\n",
       "    </tr>\n",
       "    <tr>\n",
       "      <th>8</th>\n",
       "      <td>7</td>\n",
       "      <td>0.79</td>\n",
       "    </tr>\n",
       "    <tr>\n",
       "      <th>5</th>\n",
       "      <td>5</td>\n",
       "      <td>0.56</td>\n",
       "    </tr>\n",
       "  </tbody>\n",
       "</table>\n",
       "</div>"
      ],
      "text/plain": [
       "       Conteo  Porcentaje\n",
       "sibsp                    \n",
       "0         608       68.24\n",
       "1         209       23.46\n",
       "2          28        3.14\n",
       "4          18        2.02\n",
       "3          16        1.80\n",
       "8           7        0.79\n",
       "5           5        0.56"
      ]
     },
     "metadata": {},
     "output_type": "display_data"
    },
    {
     "name": "stdout",
     "output_type": "stream",
     "text": [
      "\n",
      " ° parch:\n"
     ]
    },
    {
     "data": {
      "application/vnd.microsoft.datawrangler.viewer.v0+json": {
       "columns": [
        {
         "name": "parch",
         "rawType": "int64",
         "type": "integer"
        },
        {
         "name": "Conteo",
         "rawType": "int64",
         "type": "integer"
        },
        {
         "name": "Porcentaje",
         "rawType": "float64",
         "type": "float"
        }
       ],
       "ref": "0a63cf20-4451-4ef8-bec6-5f02bd0e6ad8",
       "rows": [
        [
         "0",
         "678",
         "76.09"
        ],
        [
         "1",
         "118",
         "13.24"
        ],
        [
         "2",
         "80",
         "8.98"
        ],
        [
         "5",
         "5",
         "0.56"
        ],
        [
         "3",
         "5",
         "0.56"
        ],
        [
         "4",
         "4",
         "0.45"
        ],
        [
         "6",
         "1",
         "0.11"
        ]
       ],
       "shape": {
        "columns": 2,
        "rows": 7
       }
      },
      "text/html": [
       "<div>\n",
       "<style scoped>\n",
       "    .dataframe tbody tr th:only-of-type {\n",
       "        vertical-align: middle;\n",
       "    }\n",
       "\n",
       "    .dataframe tbody tr th {\n",
       "        vertical-align: top;\n",
       "    }\n",
       "\n",
       "    .dataframe thead th {\n",
       "        text-align: right;\n",
       "    }\n",
       "</style>\n",
       "<table border=\"1\" class=\"dataframe\">\n",
       "  <thead>\n",
       "    <tr style=\"text-align: right;\">\n",
       "      <th></th>\n",
       "      <th>Conteo</th>\n",
       "      <th>Porcentaje</th>\n",
       "    </tr>\n",
       "    <tr>\n",
       "      <th>parch</th>\n",
       "      <th></th>\n",
       "      <th></th>\n",
       "    </tr>\n",
       "  </thead>\n",
       "  <tbody>\n",
       "    <tr>\n",
       "      <th>0</th>\n",
       "      <td>678</td>\n",
       "      <td>76.09</td>\n",
       "    </tr>\n",
       "    <tr>\n",
       "      <th>1</th>\n",
       "      <td>118</td>\n",
       "      <td>13.24</td>\n",
       "    </tr>\n",
       "    <tr>\n",
       "      <th>2</th>\n",
       "      <td>80</td>\n",
       "      <td>8.98</td>\n",
       "    </tr>\n",
       "    <tr>\n",
       "      <th>5</th>\n",
       "      <td>5</td>\n",
       "      <td>0.56</td>\n",
       "    </tr>\n",
       "    <tr>\n",
       "      <th>3</th>\n",
       "      <td>5</td>\n",
       "      <td>0.56</td>\n",
       "    </tr>\n",
       "    <tr>\n",
       "      <th>4</th>\n",
       "      <td>4</td>\n",
       "      <td>0.45</td>\n",
       "    </tr>\n",
       "    <tr>\n",
       "      <th>6</th>\n",
       "      <td>1</td>\n",
       "      <td>0.11</td>\n",
       "    </tr>\n",
       "  </tbody>\n",
       "</table>\n",
       "</div>"
      ],
      "text/plain": [
       "       Conteo  Porcentaje\n",
       "parch                    \n",
       "0         678       76.09\n",
       "1         118       13.24\n",
       "2          80        8.98\n",
       "5           5        0.56\n",
       "3           5        0.56\n",
       "4           4        0.45\n",
       "6           1        0.11"
      ]
     },
     "metadata": {},
     "output_type": "display_data"
    },
    {
     "name": "stdout",
     "output_type": "stream",
     "text": [
      "\n",
      " ° fare:\n"
     ]
    },
    {
     "data": {
      "application/vnd.microsoft.datawrangler.viewer.v0+json": {
       "columns": [
        {
         "name": "fare",
         "rawType": "float64",
         "type": "float"
        },
        {
         "name": "Conteo",
         "rawType": "int64",
         "type": "integer"
        },
        {
         "name": "Porcentaje",
         "rawType": "float64",
         "type": "float"
        }
       ],
       "ref": "ea7dd0fa-a938-4c5b-af11-d9b99417f4ef",
       "rows": [
        [
         "8.05",
         "43",
         "4.83"
        ],
        [
         "13.0",
         "42",
         "4.71"
        ],
        [
         "7.8958",
         "38",
         "4.26"
        ],
        [
         "7.75",
         "34",
         "3.82"
        ],
        [
         "26.0",
         "31",
         "3.48"
        ],
        [
         "10.5",
         "24",
         "2.69"
        ],
        [
         "7.925",
         "18",
         "2.02"
        ],
        [
         "7.775",
         "16",
         "1.8"
        ],
        [
         "7.2292",
         "15",
         "1.68"
        ],
        [
         "0.0",
         "15",
         "1.68"
        ],
        [
         "26.55",
         "15",
         "1.68"
        ],
        [
         "7.8542",
         "13",
         "1.46"
        ],
        [
         "8.6625",
         "13",
         "1.46"
        ],
        [
         "7.25",
         "13",
         "1.46"
        ],
        [
         "7.225",
         "12",
         "1.35"
        ],
        [
         "9.5",
         "9",
         "1.01"
        ],
        [
         "16.1",
         "9",
         "1.01"
        ],
        [
         "24.15",
         "8",
         "0.9"
        ],
        [
         "15.5",
         "8",
         "0.9"
        ],
        [
         "14.4542",
         "7",
         "0.79"
        ],
        [
         "69.55",
         "7",
         "0.79"
        ],
        [
         "52.0",
         "7",
         "0.79"
        ],
        [
         "7.05",
         "7",
         "0.79"
        ],
        [
         "56.4958",
         "7",
         "0.79"
        ],
        [
         "14.5",
         "7",
         "0.79"
        ],
        [
         "31.275",
         "7",
         "0.79"
        ],
        [
         "39.6875",
         "6",
         "0.67"
        ],
        [
         "7.7958",
         "6",
         "0.67"
        ],
        [
         "27.9",
         "6",
         "0.67"
        ],
        [
         "30.0",
         "6",
         "0.67"
        ],
        [
         "46.9",
         "6",
         "0.67"
        ],
        [
         "26.25",
         "6",
         "0.67"
        ],
        [
         "21.0",
         "6",
         "0.67"
        ],
        [
         "27.7208",
         "5",
         "0.56"
        ],
        [
         "29.125",
         "5",
         "0.56"
        ],
        [
         "15.2458",
         "5",
         "0.56"
        ],
        [
         "73.5",
         "5",
         "0.56"
        ],
        [
         "30.5",
         "5",
         "0.56"
        ],
        [
         "53.1",
         "5",
         "0.56"
        ],
        [
         "39.0",
         "4",
         "0.45"
        ],
        [
         "90.0",
         "4",
         "0.45"
        ],
        [
         "15.85",
         "4",
         "0.45"
        ],
        [
         "13.5",
         "4",
         "0.45"
        ],
        [
         "7.55",
         "4",
         "0.45"
        ],
        [
         "23.0",
         "4",
         "0.45"
        ],
        [
         "12.475",
         "4",
         "0.45"
        ],
        [
         "25.4667",
         "4",
         "0.45"
        ],
        [
         "7.125",
         "4",
         "0.45"
        ],
        [
         "7.65",
         "4",
         "0.45"
        ],
        [
         "21.075",
         "4",
         "0.45"
        ]
       ],
       "shape": {
        "columns": 2,
        "rows": 248
       }
      },
      "text/html": [
       "<div>\n",
       "<style scoped>\n",
       "    .dataframe tbody tr th:only-of-type {\n",
       "        vertical-align: middle;\n",
       "    }\n",
       "\n",
       "    .dataframe tbody tr th {\n",
       "        vertical-align: top;\n",
       "    }\n",
       "\n",
       "    .dataframe thead th {\n",
       "        text-align: right;\n",
       "    }\n",
       "</style>\n",
       "<table border=\"1\" class=\"dataframe\">\n",
       "  <thead>\n",
       "    <tr style=\"text-align: right;\">\n",
       "      <th></th>\n",
       "      <th>Conteo</th>\n",
       "      <th>Porcentaje</th>\n",
       "    </tr>\n",
       "    <tr>\n",
       "      <th>fare</th>\n",
       "      <th></th>\n",
       "      <th></th>\n",
       "    </tr>\n",
       "  </thead>\n",
       "  <tbody>\n",
       "    <tr>\n",
       "      <th>8.0500</th>\n",
       "      <td>43</td>\n",
       "      <td>4.83</td>\n",
       "    </tr>\n",
       "    <tr>\n",
       "      <th>13.0000</th>\n",
       "      <td>42</td>\n",
       "      <td>4.71</td>\n",
       "    </tr>\n",
       "    <tr>\n",
       "      <th>7.8958</th>\n",
       "      <td>38</td>\n",
       "      <td>4.26</td>\n",
       "    </tr>\n",
       "    <tr>\n",
       "      <th>7.7500</th>\n",
       "      <td>34</td>\n",
       "      <td>3.82</td>\n",
       "    </tr>\n",
       "    <tr>\n",
       "      <th>26.0000</th>\n",
       "      <td>31</td>\n",
       "      <td>3.48</td>\n",
       "    </tr>\n",
       "    <tr>\n",
       "      <th>...</th>\n",
       "      <td>...</td>\n",
       "      <td>...</td>\n",
       "    </tr>\n",
       "    <tr>\n",
       "      <th>35.0000</th>\n",
       "      <td>1</td>\n",
       "      <td>0.11</td>\n",
       "    </tr>\n",
       "    <tr>\n",
       "      <th>28.5000</th>\n",
       "      <td>1</td>\n",
       "      <td>0.11</td>\n",
       "    </tr>\n",
       "    <tr>\n",
       "      <th>6.2375</th>\n",
       "      <td>1</td>\n",
       "      <td>0.11</td>\n",
       "    </tr>\n",
       "    <tr>\n",
       "      <th>14.0000</th>\n",
       "      <td>1</td>\n",
       "      <td>0.11</td>\n",
       "    </tr>\n",
       "    <tr>\n",
       "      <th>10.5167</th>\n",
       "      <td>1</td>\n",
       "      <td>0.11</td>\n",
       "    </tr>\n",
       "  </tbody>\n",
       "</table>\n",
       "<p>248 rows × 2 columns</p>\n",
       "</div>"
      ],
      "text/plain": [
       "         Conteo  Porcentaje\n",
       "fare                       \n",
       "8.0500       43        4.83\n",
       "13.0000      42        4.71\n",
       "7.8958       38        4.26\n",
       "7.7500       34        3.82\n",
       "26.0000      31        3.48\n",
       "...         ...         ...\n",
       "35.0000       1        0.11\n",
       "28.5000       1        0.11\n",
       "6.2375        1        0.11\n",
       "14.0000       1        0.11\n",
       "10.5167       1        0.11\n",
       "\n",
       "[248 rows x 2 columns]"
      ]
     },
     "metadata": {},
     "output_type": "display_data"
    },
    {
     "name": "stdout",
     "output_type": "stream",
     "text": [
      "\n",
      " ° embarked:\n"
     ]
    },
    {
     "data": {
      "application/vnd.microsoft.datawrangler.viewer.v0+json": {
       "columns": [
        {
         "name": "embarked",
         "rawType": "object",
         "type": "string"
        },
        {
         "name": "Conteo",
         "rawType": "int64",
         "type": "integer"
        },
        {
         "name": "Porcentaje",
         "rawType": "float64",
         "type": "float"
        }
       ],
       "ref": "87b90816-a3bb-4d44-a237-deafaa0d1412",
       "rows": [
        [
         "S",
         "644",
         "72.44"
        ],
        [
         "C",
         "168",
         "18.9"
        ],
        [
         "Q",
         "77",
         "8.66"
        ]
       ],
       "shape": {
        "columns": 2,
        "rows": 3
       }
      },
      "text/html": [
       "<div>\n",
       "<style scoped>\n",
       "    .dataframe tbody tr th:only-of-type {\n",
       "        vertical-align: middle;\n",
       "    }\n",
       "\n",
       "    .dataframe tbody tr th {\n",
       "        vertical-align: top;\n",
       "    }\n",
       "\n",
       "    .dataframe thead th {\n",
       "        text-align: right;\n",
       "    }\n",
       "</style>\n",
       "<table border=\"1\" class=\"dataframe\">\n",
       "  <thead>\n",
       "    <tr style=\"text-align: right;\">\n",
       "      <th></th>\n",
       "      <th>Conteo</th>\n",
       "      <th>Porcentaje</th>\n",
       "    </tr>\n",
       "    <tr>\n",
       "      <th>embarked</th>\n",
       "      <th></th>\n",
       "      <th></th>\n",
       "    </tr>\n",
       "  </thead>\n",
       "  <tbody>\n",
       "    <tr>\n",
       "      <th>S</th>\n",
       "      <td>644</td>\n",
       "      <td>72.44</td>\n",
       "    </tr>\n",
       "    <tr>\n",
       "      <th>C</th>\n",
       "      <td>168</td>\n",
       "      <td>18.90</td>\n",
       "    </tr>\n",
       "    <tr>\n",
       "      <th>Q</th>\n",
       "      <td>77</td>\n",
       "      <td>8.66</td>\n",
       "    </tr>\n",
       "  </tbody>\n",
       "</table>\n",
       "</div>"
      ],
      "text/plain": [
       "          Conteo  Porcentaje\n",
       "embarked                    \n",
       "S            644       72.44\n",
       "C            168       18.90\n",
       "Q             77        8.66"
      ]
     },
     "metadata": {},
     "output_type": "display_data"
    },
    {
     "name": "stdout",
     "output_type": "stream",
     "text": [
      "\n",
      " ° class:\n"
     ]
    },
    {
     "data": {
      "application/vnd.microsoft.datawrangler.viewer.v0+json": {
       "columns": [
        {
         "name": "class",
         "rawType": "category",
         "type": "unknown"
        },
        {
         "name": "Conteo",
         "rawType": "int64",
         "type": "integer"
        },
        {
         "name": "Porcentaje",
         "rawType": "float64",
         "type": "float"
        }
       ],
       "ref": "fdb24443-3c84-4703-b3fc-c06e34fc1460",
       "rows": [
        [
         "Third",
         "491",
         "55.11"
        ],
        [
         "First",
         "216",
         "24.24"
        ],
        [
         "Second",
         "184",
         "20.65"
        ]
       ],
       "shape": {
        "columns": 2,
        "rows": 3
       }
      },
      "text/html": [
       "<div>\n",
       "<style scoped>\n",
       "    .dataframe tbody tr th:only-of-type {\n",
       "        vertical-align: middle;\n",
       "    }\n",
       "\n",
       "    .dataframe tbody tr th {\n",
       "        vertical-align: top;\n",
       "    }\n",
       "\n",
       "    .dataframe thead th {\n",
       "        text-align: right;\n",
       "    }\n",
       "</style>\n",
       "<table border=\"1\" class=\"dataframe\">\n",
       "  <thead>\n",
       "    <tr style=\"text-align: right;\">\n",
       "      <th></th>\n",
       "      <th>Conteo</th>\n",
       "      <th>Porcentaje</th>\n",
       "    </tr>\n",
       "    <tr>\n",
       "      <th>class</th>\n",
       "      <th></th>\n",
       "      <th></th>\n",
       "    </tr>\n",
       "  </thead>\n",
       "  <tbody>\n",
       "    <tr>\n",
       "      <th>Third</th>\n",
       "      <td>491</td>\n",
       "      <td>55.11</td>\n",
       "    </tr>\n",
       "    <tr>\n",
       "      <th>First</th>\n",
       "      <td>216</td>\n",
       "      <td>24.24</td>\n",
       "    </tr>\n",
       "    <tr>\n",
       "      <th>Second</th>\n",
       "      <td>184</td>\n",
       "      <td>20.65</td>\n",
       "    </tr>\n",
       "  </tbody>\n",
       "</table>\n",
       "</div>"
      ],
      "text/plain": [
       "        Conteo  Porcentaje\n",
       "class                     \n",
       "Third      491       55.11\n",
       "First      216       24.24\n",
       "Second     184       20.65"
      ]
     },
     "metadata": {},
     "output_type": "display_data"
    },
    {
     "name": "stdout",
     "output_type": "stream",
     "text": [
      "\n",
      " ° who:\n"
     ]
    },
    {
     "data": {
      "application/vnd.microsoft.datawrangler.viewer.v0+json": {
       "columns": [
        {
         "name": "who",
         "rawType": "object",
         "type": "string"
        },
        {
         "name": "Conteo",
         "rawType": "int64",
         "type": "integer"
        },
        {
         "name": "Porcentaje",
         "rawType": "float64",
         "type": "float"
        }
       ],
       "ref": "5d9db778-5e21-4e16-b22b-2d19d3d198ef",
       "rows": [
        [
         "man",
         "537",
         "60.27"
        ],
        [
         "woman",
         "271",
         "30.42"
        ],
        [
         "child",
         "83",
         "9.32"
        ]
       ],
       "shape": {
        "columns": 2,
        "rows": 3
       }
      },
      "text/html": [
       "<div>\n",
       "<style scoped>\n",
       "    .dataframe tbody tr th:only-of-type {\n",
       "        vertical-align: middle;\n",
       "    }\n",
       "\n",
       "    .dataframe tbody tr th {\n",
       "        vertical-align: top;\n",
       "    }\n",
       "\n",
       "    .dataframe thead th {\n",
       "        text-align: right;\n",
       "    }\n",
       "</style>\n",
       "<table border=\"1\" class=\"dataframe\">\n",
       "  <thead>\n",
       "    <tr style=\"text-align: right;\">\n",
       "      <th></th>\n",
       "      <th>Conteo</th>\n",
       "      <th>Porcentaje</th>\n",
       "    </tr>\n",
       "    <tr>\n",
       "      <th>who</th>\n",
       "      <th></th>\n",
       "      <th></th>\n",
       "    </tr>\n",
       "  </thead>\n",
       "  <tbody>\n",
       "    <tr>\n",
       "      <th>man</th>\n",
       "      <td>537</td>\n",
       "      <td>60.27</td>\n",
       "    </tr>\n",
       "    <tr>\n",
       "      <th>woman</th>\n",
       "      <td>271</td>\n",
       "      <td>30.42</td>\n",
       "    </tr>\n",
       "    <tr>\n",
       "      <th>child</th>\n",
       "      <td>83</td>\n",
       "      <td>9.32</td>\n",
       "    </tr>\n",
       "  </tbody>\n",
       "</table>\n",
       "</div>"
      ],
      "text/plain": [
       "       Conteo  Porcentaje\n",
       "who                      \n",
       "man       537       60.27\n",
       "woman     271       30.42\n",
       "child      83        9.32"
      ]
     },
     "metadata": {},
     "output_type": "display_data"
    },
    {
     "name": "stdout",
     "output_type": "stream",
     "text": [
      "\n",
      " ° adult_male:\n"
     ]
    },
    {
     "data": {
      "application/vnd.microsoft.datawrangler.viewer.v0+json": {
       "columns": [
        {
         "name": "adult_male",
         "rawType": "bool",
         "type": "boolean"
        },
        {
         "name": "Conteo",
         "rawType": "int64",
         "type": "integer"
        },
        {
         "name": "Porcentaje",
         "rawType": "float64",
         "type": "float"
        }
       ],
       "ref": "4a8324ba-6878-490d-92ed-ac8a37412a78",
       "rows": [
        [
         "True",
         "537",
         "60.27"
        ],
        [
         "False",
         "354",
         "39.73"
        ]
       ],
       "shape": {
        "columns": 2,
        "rows": 2
       }
      },
      "text/html": [
       "<div>\n",
       "<style scoped>\n",
       "    .dataframe tbody tr th:only-of-type {\n",
       "        vertical-align: middle;\n",
       "    }\n",
       "\n",
       "    .dataframe tbody tr th {\n",
       "        vertical-align: top;\n",
       "    }\n",
       "\n",
       "    .dataframe thead th {\n",
       "        text-align: right;\n",
       "    }\n",
       "</style>\n",
       "<table border=\"1\" class=\"dataframe\">\n",
       "  <thead>\n",
       "    <tr style=\"text-align: right;\">\n",
       "      <th></th>\n",
       "      <th>Conteo</th>\n",
       "      <th>Porcentaje</th>\n",
       "    </tr>\n",
       "    <tr>\n",
       "      <th>adult_male</th>\n",
       "      <th></th>\n",
       "      <th></th>\n",
       "    </tr>\n",
       "  </thead>\n",
       "  <tbody>\n",
       "    <tr>\n",
       "      <th>True</th>\n",
       "      <td>537</td>\n",
       "      <td>60.27</td>\n",
       "    </tr>\n",
       "    <tr>\n",
       "      <th>False</th>\n",
       "      <td>354</td>\n",
       "      <td>39.73</td>\n",
       "    </tr>\n",
       "  </tbody>\n",
       "</table>\n",
       "</div>"
      ],
      "text/plain": [
       "            Conteo  Porcentaje\n",
       "adult_male                    \n",
       "True           537       60.27\n",
       "False          354       39.73"
      ]
     },
     "metadata": {},
     "output_type": "display_data"
    },
    {
     "name": "stdout",
     "output_type": "stream",
     "text": [
      "\n",
      " ° deck:\n"
     ]
    },
    {
     "data": {
      "application/vnd.microsoft.datawrangler.viewer.v0+json": {
       "columns": [
        {
         "name": "deck",
         "rawType": "category",
         "type": "unknown"
        },
        {
         "name": "Conteo",
         "rawType": "int64",
         "type": "integer"
        },
        {
         "name": "Porcentaje",
         "rawType": "float64",
         "type": "float"
        }
       ],
       "ref": "8a3ed160-6288-4b76-b832-0672e2dd7605",
       "rows": [
        [
         "C",
         "59",
         "29.06"
        ],
        [
         "B",
         "47",
         "23.15"
        ],
        [
         "D",
         "33",
         "16.26"
        ],
        [
         "E",
         "32",
         "15.76"
        ],
        [
         "A",
         "15",
         "7.39"
        ],
        [
         "F",
         "13",
         "6.4"
        ],
        [
         "G",
         "4",
         "1.97"
        ]
       ],
       "shape": {
        "columns": 2,
        "rows": 7
       }
      },
      "text/html": [
       "<div>\n",
       "<style scoped>\n",
       "    .dataframe tbody tr th:only-of-type {\n",
       "        vertical-align: middle;\n",
       "    }\n",
       "\n",
       "    .dataframe tbody tr th {\n",
       "        vertical-align: top;\n",
       "    }\n",
       "\n",
       "    .dataframe thead th {\n",
       "        text-align: right;\n",
       "    }\n",
       "</style>\n",
       "<table border=\"1\" class=\"dataframe\">\n",
       "  <thead>\n",
       "    <tr style=\"text-align: right;\">\n",
       "      <th></th>\n",
       "      <th>Conteo</th>\n",
       "      <th>Porcentaje</th>\n",
       "    </tr>\n",
       "    <tr>\n",
       "      <th>deck</th>\n",
       "      <th></th>\n",
       "      <th></th>\n",
       "    </tr>\n",
       "  </thead>\n",
       "  <tbody>\n",
       "    <tr>\n",
       "      <th>C</th>\n",
       "      <td>59</td>\n",
       "      <td>29.06</td>\n",
       "    </tr>\n",
       "    <tr>\n",
       "      <th>B</th>\n",
       "      <td>47</td>\n",
       "      <td>23.15</td>\n",
       "    </tr>\n",
       "    <tr>\n",
       "      <th>D</th>\n",
       "      <td>33</td>\n",
       "      <td>16.26</td>\n",
       "    </tr>\n",
       "    <tr>\n",
       "      <th>E</th>\n",
       "      <td>32</td>\n",
       "      <td>15.76</td>\n",
       "    </tr>\n",
       "    <tr>\n",
       "      <th>A</th>\n",
       "      <td>15</td>\n",
       "      <td>7.39</td>\n",
       "    </tr>\n",
       "    <tr>\n",
       "      <th>F</th>\n",
       "      <td>13</td>\n",
       "      <td>6.40</td>\n",
       "    </tr>\n",
       "    <tr>\n",
       "      <th>G</th>\n",
       "      <td>4</td>\n",
       "      <td>1.97</td>\n",
       "    </tr>\n",
       "  </tbody>\n",
       "</table>\n",
       "</div>"
      ],
      "text/plain": [
       "      Conteo  Porcentaje\n",
       "deck                    \n",
       "C         59       29.06\n",
       "B         47       23.15\n",
       "D         33       16.26\n",
       "E         32       15.76\n",
       "A         15        7.39\n",
       "F         13        6.40\n",
       "G          4        1.97"
      ]
     },
     "metadata": {},
     "output_type": "display_data"
    },
    {
     "name": "stdout",
     "output_type": "stream",
     "text": [
      "\n",
      " ° embark_town:\n"
     ]
    },
    {
     "data": {
      "application/vnd.microsoft.datawrangler.viewer.v0+json": {
       "columns": [
        {
         "name": "embark_town",
         "rawType": "object",
         "type": "string"
        },
        {
         "name": "Conteo",
         "rawType": "int64",
         "type": "integer"
        },
        {
         "name": "Porcentaje",
         "rawType": "float64",
         "type": "float"
        }
       ],
       "ref": "6feb2de5-69ed-4d12-843c-b1a0e2601e32",
       "rows": [
        [
         "Southampton",
         "644",
         "72.44"
        ],
        [
         "Cherbourg",
         "168",
         "18.9"
        ],
        [
         "Queenstown",
         "77",
         "8.66"
        ]
       ],
       "shape": {
        "columns": 2,
        "rows": 3
       }
      },
      "text/html": [
       "<div>\n",
       "<style scoped>\n",
       "    .dataframe tbody tr th:only-of-type {\n",
       "        vertical-align: middle;\n",
       "    }\n",
       "\n",
       "    .dataframe tbody tr th {\n",
       "        vertical-align: top;\n",
       "    }\n",
       "\n",
       "    .dataframe thead th {\n",
       "        text-align: right;\n",
       "    }\n",
       "</style>\n",
       "<table border=\"1\" class=\"dataframe\">\n",
       "  <thead>\n",
       "    <tr style=\"text-align: right;\">\n",
       "      <th></th>\n",
       "      <th>Conteo</th>\n",
       "      <th>Porcentaje</th>\n",
       "    </tr>\n",
       "    <tr>\n",
       "      <th>embark_town</th>\n",
       "      <th></th>\n",
       "      <th></th>\n",
       "    </tr>\n",
       "  </thead>\n",
       "  <tbody>\n",
       "    <tr>\n",
       "      <th>Southampton</th>\n",
       "      <td>644</td>\n",
       "      <td>72.44</td>\n",
       "    </tr>\n",
       "    <tr>\n",
       "      <th>Cherbourg</th>\n",
       "      <td>168</td>\n",
       "      <td>18.90</td>\n",
       "    </tr>\n",
       "    <tr>\n",
       "      <th>Queenstown</th>\n",
       "      <td>77</td>\n",
       "      <td>8.66</td>\n",
       "    </tr>\n",
       "  </tbody>\n",
       "</table>\n",
       "</div>"
      ],
      "text/plain": [
       "             Conteo  Porcentaje\n",
       "embark_town                    \n",
       "Southampton     644       72.44\n",
       "Cherbourg       168       18.90\n",
       "Queenstown       77        8.66"
      ]
     },
     "metadata": {},
     "output_type": "display_data"
    },
    {
     "name": "stdout",
     "output_type": "stream",
     "text": [
      "\n",
      " ° alive:\n"
     ]
    },
    {
     "data": {
      "application/vnd.microsoft.datawrangler.viewer.v0+json": {
       "columns": [
        {
         "name": "alive",
         "rawType": "object",
         "type": "string"
        },
        {
         "name": "Conteo",
         "rawType": "int64",
         "type": "integer"
        },
        {
         "name": "Porcentaje",
         "rawType": "float64",
         "type": "float"
        }
       ],
       "ref": "18077031-e5ba-44e3-9b76-bfeadf8fff13",
       "rows": [
        [
         "no",
         "549",
         "61.62"
        ],
        [
         "yes",
         "342",
         "38.38"
        ]
       ],
       "shape": {
        "columns": 2,
        "rows": 2
       }
      },
      "text/html": [
       "<div>\n",
       "<style scoped>\n",
       "    .dataframe tbody tr th:only-of-type {\n",
       "        vertical-align: middle;\n",
       "    }\n",
       "\n",
       "    .dataframe tbody tr th {\n",
       "        vertical-align: top;\n",
       "    }\n",
       "\n",
       "    .dataframe thead th {\n",
       "        text-align: right;\n",
       "    }\n",
       "</style>\n",
       "<table border=\"1\" class=\"dataframe\">\n",
       "  <thead>\n",
       "    <tr style=\"text-align: right;\">\n",
       "      <th></th>\n",
       "      <th>Conteo</th>\n",
       "      <th>Porcentaje</th>\n",
       "    </tr>\n",
       "    <tr>\n",
       "      <th>alive</th>\n",
       "      <th></th>\n",
       "      <th></th>\n",
       "    </tr>\n",
       "  </thead>\n",
       "  <tbody>\n",
       "    <tr>\n",
       "      <th>no</th>\n",
       "      <td>549</td>\n",
       "      <td>61.62</td>\n",
       "    </tr>\n",
       "    <tr>\n",
       "      <th>yes</th>\n",
       "      <td>342</td>\n",
       "      <td>38.38</td>\n",
       "    </tr>\n",
       "  </tbody>\n",
       "</table>\n",
       "</div>"
      ],
      "text/plain": [
       "       Conteo  Porcentaje\n",
       "alive                    \n",
       "no        549       61.62\n",
       "yes       342       38.38"
      ]
     },
     "metadata": {},
     "output_type": "display_data"
    },
    {
     "name": "stdout",
     "output_type": "stream",
     "text": [
      "\n",
      " ° alone:\n"
     ]
    },
    {
     "data": {
      "application/vnd.microsoft.datawrangler.viewer.v0+json": {
       "columns": [
        {
         "name": "alone",
         "rawType": "bool",
         "type": "boolean"
        },
        {
         "name": "Conteo",
         "rawType": "int64",
         "type": "integer"
        },
        {
         "name": "Porcentaje",
         "rawType": "float64",
         "type": "float"
        }
       ],
       "ref": "69b08ab6-8e5f-4996-9795-58bedd184a4a",
       "rows": [
        [
         "True",
         "537",
         "60.27"
        ],
        [
         "False",
         "354",
         "39.73"
        ]
       ],
       "shape": {
        "columns": 2,
        "rows": 2
       }
      },
      "text/html": [
       "<div>\n",
       "<style scoped>\n",
       "    .dataframe tbody tr th:only-of-type {\n",
       "        vertical-align: middle;\n",
       "    }\n",
       "\n",
       "    .dataframe tbody tr th {\n",
       "        vertical-align: top;\n",
       "    }\n",
       "\n",
       "    .dataframe thead th {\n",
       "        text-align: right;\n",
       "    }\n",
       "</style>\n",
       "<table border=\"1\" class=\"dataframe\">\n",
       "  <thead>\n",
       "    <tr style=\"text-align: right;\">\n",
       "      <th></th>\n",
       "      <th>Conteo</th>\n",
       "      <th>Porcentaje</th>\n",
       "    </tr>\n",
       "    <tr>\n",
       "      <th>alone</th>\n",
       "      <th></th>\n",
       "      <th></th>\n",
       "    </tr>\n",
       "  </thead>\n",
       "  <tbody>\n",
       "    <tr>\n",
       "      <th>True</th>\n",
       "      <td>537</td>\n",
       "      <td>60.27</td>\n",
       "    </tr>\n",
       "    <tr>\n",
       "      <th>False</th>\n",
       "      <td>354</td>\n",
       "      <td>39.73</td>\n",
       "    </tr>\n",
       "  </tbody>\n",
       "</table>\n",
       "</div>"
      ],
      "text/plain": [
       "       Conteo  Porcentaje\n",
       "alone                    \n",
       "True      537       60.27\n",
       "False     354       39.73"
      ]
     },
     "metadata": {},
     "output_type": "display_data"
    },
    {
     "name": "stdout",
     "output_type": "stream",
     "text": [
      "\n",
      "==================================================\n",
      "\n",
      "------------------------------\n",
      "Nulos:\n",
      "------------------------------\n"
     ]
    },
    {
     "data": {
      "application/vnd.microsoft.datawrangler.viewer.v0+json": {
       "columns": [
        {
         "name": "index",
         "rawType": "object",
         "type": "string"
        },
        {
         "name": "Conteo",
         "rawType": "int64",
         "type": "integer"
        },
        {
         "name": "Porcentaje",
         "rawType": "float64",
         "type": "float"
        }
       ],
       "ref": "b1d8e4c6-fa4a-40f9-b06b-03621d081710",
       "rows": [
        [
         "survived",
         "0",
         "0.0"
        ],
        [
         "pclass",
         "0",
         "0.0"
        ],
        [
         "sex",
         "0",
         "0.0"
        ],
        [
         "age",
         "177",
         "19.87"
        ],
        [
         "sibsp",
         "0",
         "0.0"
        ],
        [
         "parch",
         "0",
         "0.0"
        ],
        [
         "fare",
         "0",
         "0.0"
        ],
        [
         "embarked",
         "2",
         "0.22"
        ],
        [
         "class",
         "0",
         "0.0"
        ],
        [
         "who",
         "0",
         "0.0"
        ],
        [
         "adult_male",
         "0",
         "0.0"
        ],
        [
         "deck",
         "688",
         "77.22"
        ],
        [
         "embark_town",
         "2",
         "0.22"
        ],
        [
         "alive",
         "0",
         "0.0"
        ],
        [
         "alone",
         "0",
         "0.0"
        ]
       ],
       "shape": {
        "columns": 2,
        "rows": 15
       }
      },
      "text/html": [
       "<div>\n",
       "<style scoped>\n",
       "    .dataframe tbody tr th:only-of-type {\n",
       "        vertical-align: middle;\n",
       "    }\n",
       "\n",
       "    .dataframe tbody tr th {\n",
       "        vertical-align: top;\n",
       "    }\n",
       "\n",
       "    .dataframe thead th {\n",
       "        text-align: right;\n",
       "    }\n",
       "</style>\n",
       "<table border=\"1\" class=\"dataframe\">\n",
       "  <thead>\n",
       "    <tr style=\"text-align: right;\">\n",
       "      <th></th>\n",
       "      <th>Conteo</th>\n",
       "      <th>Porcentaje</th>\n",
       "    </tr>\n",
       "  </thead>\n",
       "  <tbody>\n",
       "    <tr>\n",
       "      <th>survived</th>\n",
       "      <td>0</td>\n",
       "      <td>0.00</td>\n",
       "    </tr>\n",
       "    <tr>\n",
       "      <th>pclass</th>\n",
       "      <td>0</td>\n",
       "      <td>0.00</td>\n",
       "    </tr>\n",
       "    <tr>\n",
       "      <th>sex</th>\n",
       "      <td>0</td>\n",
       "      <td>0.00</td>\n",
       "    </tr>\n",
       "    <tr>\n",
       "      <th>age</th>\n",
       "      <td>177</td>\n",
       "      <td>19.87</td>\n",
       "    </tr>\n",
       "    <tr>\n",
       "      <th>sibsp</th>\n",
       "      <td>0</td>\n",
       "      <td>0.00</td>\n",
       "    </tr>\n",
       "    <tr>\n",
       "      <th>parch</th>\n",
       "      <td>0</td>\n",
       "      <td>0.00</td>\n",
       "    </tr>\n",
       "    <tr>\n",
       "      <th>fare</th>\n",
       "      <td>0</td>\n",
       "      <td>0.00</td>\n",
       "    </tr>\n",
       "    <tr>\n",
       "      <th>embarked</th>\n",
       "      <td>2</td>\n",
       "      <td>0.22</td>\n",
       "    </tr>\n",
       "    <tr>\n",
       "      <th>class</th>\n",
       "      <td>0</td>\n",
       "      <td>0.00</td>\n",
       "    </tr>\n",
       "    <tr>\n",
       "      <th>who</th>\n",
       "      <td>0</td>\n",
       "      <td>0.00</td>\n",
       "    </tr>\n",
       "    <tr>\n",
       "      <th>adult_male</th>\n",
       "      <td>0</td>\n",
       "      <td>0.00</td>\n",
       "    </tr>\n",
       "    <tr>\n",
       "      <th>deck</th>\n",
       "      <td>688</td>\n",
       "      <td>77.22</td>\n",
       "    </tr>\n",
       "    <tr>\n",
       "      <th>embark_town</th>\n",
       "      <td>2</td>\n",
       "      <td>0.22</td>\n",
       "    </tr>\n",
       "    <tr>\n",
       "      <th>alive</th>\n",
       "      <td>0</td>\n",
       "      <td>0.00</td>\n",
       "    </tr>\n",
       "    <tr>\n",
       "      <th>alone</th>\n",
       "      <td>0</td>\n",
       "      <td>0.00</td>\n",
       "    </tr>\n",
       "  </tbody>\n",
       "</table>\n",
       "</div>"
      ],
      "text/plain": [
       "             Conteo  Porcentaje\n",
       "survived          0        0.00\n",
       "pclass            0        0.00\n",
       "sex               0        0.00\n",
       "age             177       19.87\n",
       "sibsp             0        0.00\n",
       "parch             0        0.00\n",
       "fare              0        0.00\n",
       "embarked          2        0.22\n",
       "class             0        0.00\n",
       "who               0        0.00\n",
       "adult_male        0        0.00\n",
       "deck            688       77.22\n",
       "embark_town       2        0.22\n",
       "alive             0        0.00\n",
       "alone             0        0.00"
      ]
     },
     "metadata": {},
     "output_type": "display_data"
    },
    {
     "name": "stdout",
     "output_type": "stream",
     "text": [
      "------------------------------\n",
      "Duplicados:\n",
      "------------------------------\n"
     ]
    },
    {
     "data": {
      "application/vnd.microsoft.datawrangler.viewer.v0+json": {
       "columns": [
        {
         "name": "index",
         "rawType": "int64",
         "type": "integer"
        },
        {
         "name": "Conteo",
         "rawType": "int64",
         "type": "integer"
        },
        {
         "name": "Porcentaje",
         "rawType": "float64",
         "type": "float"
        }
       ],
       "ref": "6eb45d8d-9d21-412d-8a76-e97b8959ac0b",
       "rows": [
        [
         "0",
         "107",
         "12.01"
        ]
       ],
       "shape": {
        "columns": 2,
        "rows": 1
       }
      },
      "text/html": [
       "<div>\n",
       "<style scoped>\n",
       "    .dataframe tbody tr th:only-of-type {\n",
       "        vertical-align: middle;\n",
       "    }\n",
       "\n",
       "    .dataframe tbody tr th {\n",
       "        vertical-align: top;\n",
       "    }\n",
       "\n",
       "    .dataframe thead th {\n",
       "        text-align: right;\n",
       "    }\n",
       "</style>\n",
       "<table border=\"1\" class=\"dataframe\">\n",
       "  <thead>\n",
       "    <tr style=\"text-align: right;\">\n",
       "      <th></th>\n",
       "      <th>Conteo</th>\n",
       "      <th>Porcentaje</th>\n",
       "    </tr>\n",
       "  </thead>\n",
       "  <tbody>\n",
       "    <tr>\n",
       "      <th>0</th>\n",
       "      <td>107</td>\n",
       "      <td>12.01</td>\n",
       "    </tr>\n",
       "  </tbody>\n",
       "</table>\n",
       "</div>"
      ],
      "text/plain": [
       "   Conteo  Porcentaje\n",
       "0     107       12.01"
      ]
     },
     "metadata": {},
     "output_type": "display_data"
    },
    {
     "name": "stdout",
     "output_type": "stream",
     "text": [
      "------------------------------\n",
      "Valores atípicos:\n",
      "------------------------------\n"
     ]
    },
    {
     "data": {
      "application/vnd.microsoft.datawrangler.viewer.v0+json": {
       "columns": [
        {
         "name": "index",
         "rawType": "object",
         "type": "string"
        },
        {
         "name": "Conteo",
         "rawType": "float64",
         "type": "float"
        },
        {
         "name": "Porcentaje",
         "rawType": "float64",
         "type": "float"
        }
       ],
       "ref": "0e47999d-e574-4b50-88ac-d8fecdbbff38",
       "rows": [
        [
         "survived",
         "0.0",
         "0.0"
        ],
        [
         "pclass",
         "0.0",
         "0.0"
        ],
        [
         "age",
         "11.0",
         "1.23"
        ],
        [
         "sibsp",
         "46.0",
         "5.16"
        ],
        [
         "parch",
         "213.0",
         "23.91"
        ],
        [
         "fare",
         "116.0",
         "13.02"
        ]
       ],
       "shape": {
        "columns": 2,
        "rows": 6
       }
      },
      "text/html": [
       "<div>\n",
       "<style scoped>\n",
       "    .dataframe tbody tr th:only-of-type {\n",
       "        vertical-align: middle;\n",
       "    }\n",
       "\n",
       "    .dataframe tbody tr th {\n",
       "        vertical-align: top;\n",
       "    }\n",
       "\n",
       "    .dataframe thead th {\n",
       "        text-align: right;\n",
       "    }\n",
       "</style>\n",
       "<table border=\"1\" class=\"dataframe\">\n",
       "  <thead>\n",
       "    <tr style=\"text-align: right;\">\n",
       "      <th></th>\n",
       "      <th>Conteo</th>\n",
       "      <th>Porcentaje</th>\n",
       "    </tr>\n",
       "  </thead>\n",
       "  <tbody>\n",
       "    <tr>\n",
       "      <th>survived</th>\n",
       "      <td>0.0</td>\n",
       "      <td>0.00</td>\n",
       "    </tr>\n",
       "    <tr>\n",
       "      <th>pclass</th>\n",
       "      <td>0.0</td>\n",
       "      <td>0.00</td>\n",
       "    </tr>\n",
       "    <tr>\n",
       "      <th>age</th>\n",
       "      <td>11.0</td>\n",
       "      <td>1.23</td>\n",
       "    </tr>\n",
       "    <tr>\n",
       "      <th>sibsp</th>\n",
       "      <td>46.0</td>\n",
       "      <td>5.16</td>\n",
       "    </tr>\n",
       "    <tr>\n",
       "      <th>parch</th>\n",
       "      <td>213.0</td>\n",
       "      <td>23.91</td>\n",
       "    </tr>\n",
       "    <tr>\n",
       "      <th>fare</th>\n",
       "      <td>116.0</td>\n",
       "      <td>13.02</td>\n",
       "    </tr>\n",
       "  </tbody>\n",
       "</table>\n",
       "</div>"
      ],
      "text/plain": [
       "          Conteo  Porcentaje\n",
       "survived     0.0        0.00\n",
       "pclass       0.0        0.00\n",
       "age         11.0        1.23\n",
       "sibsp       46.0        5.16\n",
       "parch      213.0       23.91\n",
       "fare       116.0       13.02"
      ]
     },
     "metadata": {},
     "output_type": "display_data"
    },
    {
     "name": "stdout",
     "output_type": "stream",
     "text": [
      "\n",
      "==================================================\n",
      "\n",
      "------------------------------\n",
      "Uso de memoria:\n",
      "------------------------------\n"
     ]
    },
    {
     "data": {
      "application/vnd.microsoft.datawrangler.viewer.v0+json": {
       "columns": [
        {
         "name": "index",
         "rawType": "object",
         "type": "string"
        },
        {
         "name": "Bytes",
         "rawType": "int64",
         "type": "integer"
        }
       ],
       "ref": "0f8fe877-e99d-4d3b-93ec-ef3cc27898a6",
       "rows": [
        [
         "Index",
         "132"
        ],
        [
         "survived",
         "7128"
        ],
        [
         "pclass",
         "7128"
        ],
        [
         "sex",
         "47851"
        ],
        [
         "age",
         "7128"
        ],
        [
         "sibsp",
         "7128"
        ],
        [
         "parch",
         "7128"
        ],
        [
         "fare",
         "7128"
        ],
        [
         "embarked",
         "44514"
        ],
        [
         "class",
         "1162"
        ],
        [
         "who",
         "47040"
        ],
        [
         "adult_male",
         "891"
        ],
        [
         "deck",
         "1541"
        ],
        [
         "embark_town",
         "52991"
        ],
        [
         "alive",
         "45783"
        ],
        [
         "alone",
         "891"
        ]
       ],
       "shape": {
        "columns": 1,
        "rows": 16
       }
      },
      "text/html": [
       "<div>\n",
       "<style scoped>\n",
       "    .dataframe tbody tr th:only-of-type {\n",
       "        vertical-align: middle;\n",
       "    }\n",
       "\n",
       "    .dataframe tbody tr th {\n",
       "        vertical-align: top;\n",
       "    }\n",
       "\n",
       "    .dataframe thead th {\n",
       "        text-align: right;\n",
       "    }\n",
       "</style>\n",
       "<table border=\"1\" class=\"dataframe\">\n",
       "  <thead>\n",
       "    <tr style=\"text-align: right;\">\n",
       "      <th></th>\n",
       "      <th>Bytes</th>\n",
       "    </tr>\n",
       "  </thead>\n",
       "  <tbody>\n",
       "    <tr>\n",
       "      <th>Index</th>\n",
       "      <td>132</td>\n",
       "    </tr>\n",
       "    <tr>\n",
       "      <th>survived</th>\n",
       "      <td>7128</td>\n",
       "    </tr>\n",
       "    <tr>\n",
       "      <th>pclass</th>\n",
       "      <td>7128</td>\n",
       "    </tr>\n",
       "    <tr>\n",
       "      <th>sex</th>\n",
       "      <td>47851</td>\n",
       "    </tr>\n",
       "    <tr>\n",
       "      <th>age</th>\n",
       "      <td>7128</td>\n",
       "    </tr>\n",
       "    <tr>\n",
       "      <th>sibsp</th>\n",
       "      <td>7128</td>\n",
       "    </tr>\n",
       "    <tr>\n",
       "      <th>parch</th>\n",
       "      <td>7128</td>\n",
       "    </tr>\n",
       "    <tr>\n",
       "      <th>fare</th>\n",
       "      <td>7128</td>\n",
       "    </tr>\n",
       "    <tr>\n",
       "      <th>embarked</th>\n",
       "      <td>44514</td>\n",
       "    </tr>\n",
       "    <tr>\n",
       "      <th>class</th>\n",
       "      <td>1162</td>\n",
       "    </tr>\n",
       "    <tr>\n",
       "      <th>who</th>\n",
       "      <td>47040</td>\n",
       "    </tr>\n",
       "    <tr>\n",
       "      <th>adult_male</th>\n",
       "      <td>891</td>\n",
       "    </tr>\n",
       "    <tr>\n",
       "      <th>deck</th>\n",
       "      <td>1541</td>\n",
       "    </tr>\n",
       "    <tr>\n",
       "      <th>embark_town</th>\n",
       "      <td>52991</td>\n",
       "    </tr>\n",
       "    <tr>\n",
       "      <th>alive</th>\n",
       "      <td>45783</td>\n",
       "    </tr>\n",
       "    <tr>\n",
       "      <th>alone</th>\n",
       "      <td>891</td>\n",
       "    </tr>\n",
       "  </tbody>\n",
       "</table>\n",
       "</div>"
      ],
      "text/plain": [
       "             Bytes\n",
       "Index          132\n",
       "survived      7128\n",
       "pclass        7128\n",
       "sex          47851\n",
       "age           7128\n",
       "sibsp         7128\n",
       "parch         7128\n",
       "fare          7128\n",
       "embarked     44514\n",
       "class         1162\n",
       "who          47040\n",
       "adult_male     891\n",
       "deck          1541\n",
       "embark_town  52991\n",
       "alive        45783\n",
       "alone          891"
      ]
     },
     "metadata": {},
     "output_type": "display_data"
    },
    {
     "name": "stdout",
     "output_type": "stream",
     "text": [
      "\n",
      "~~~~~~~~~~~~~~~~~~~~~~~~~~~~~~~~~~~~~~~~~~~~~~~~~~\n"
     ]
    }
   ],
   "source": [
    "# --- TÍTULO GENERAL ---\n",
    "print(f'{'~'*50}')\n",
    "print('EXPLORACIÓN TEXTUAL')\n",
    "print(f'{'~'*50}\\n')\n",
    "\n",
    "# --- Primeros y últimos registros ---\n",
    "print(f'{'-'*30}\\nPrimeros registros:\\n{'-'*30}')\n",
    "display(df.head(5))\n",
    "\n",
    "print(f'{'-'*30}\\nÚltimos registros:\\n{'-'*30}')\n",
    "display(df.tail(5))\n",
    "\n",
    "print(f'\\n{'='*50}\\n')\n",
    "\n",
    "# --- Información, dimensión, columna y tipo de dato ---\n",
    "print(f'{'-'*30}\\nInformación:\\n{'-'*30}')\n",
    "display(df.info())\n",
    "\n",
    "print(f'{'-'*30}\\nDimensión:\\n{'-'*30}')\n",
    "display(df.shape)\n",
    "\n",
    "print(f'{'-'*30}\\nColumna y tipo de dato:\\n{'-'*30}')\n",
    "display(pd.DataFrame(df.dtypes, columns=['Tipo de dato']))\n",
    "\n",
    "print(f'\\n{'='*50}\\n')\n",
    "\n",
    "# --- Descripción estadística, moda, varianza, rango y cardinalidad ---\n",
    "print(f'{'-'*30}\\nDescripción estadística:\\n{'-'*30}')\n",
    "summary = df.describe(include='all').T\n",
    "summary.insert(2, 'mode', df.mode().iloc[0])\n",
    "summary.insert(5, 'var', df.select_dtypes(include=[np.number]).var())\n",
    "summary['range'] = df.select_dtypes(include=[np.number]).max() - df.select_dtypes(include=[np.number]).min()\n",
    "summary['unique'] = df.nunique()\n",
    "display(summary.drop(columns=['top', 'freq']))\n",
    "\n",
    "print(f'\\n{'='*50}\\n')\n",
    "\n",
    "# --- Distribución ---\n",
    "print(f'{'-'*30}\\nDistribución:\\n{'-'*30}')\n",
    "for col in df.columns:\n",
    "    print(f'\\n ° {col}:')\n",
    "    display(pd.DataFrame({\n",
    "        'Conteo': df[col].value_counts(), \n",
    "        'Porcentaje': (df[col].value_counts(normalize=True) * 100).round(2)\n",
    "    }))\n",
    "\n",
    "print(f'\\n{'='*50}\\n')\n",
    "\n",
    "# --- Nulos, duplicados y valores atípicos ---\n",
    "print(f'{'-'*30}\\nNulos:\\n{'-'*30}')\n",
    "display(pd.DataFrame({\n",
    "    'Conteo': df.isnull().sum(), \n",
    "    'Porcentaje': (df.isnull().mean() * 100).round(2)\n",
    "}))\n",
    "\n",
    "print(f'{'-'*30}\\nDuplicados:\\n{'-'*30}')\n",
    "display(pd.DataFrame({\n",
    "    'Conteo': [df.duplicated().sum()], \n",
    "    'Porcentaje': [(df.duplicated().mean() * 100).round(2)]\n",
    "}))\n",
    "\n",
    "print(f'{'-'*30}\\nValores atípicos:\\n{'-'*30}')\n",
    "outliers = {}\n",
    "for col in df.select_dtypes(include=[np.number]).columns:\n",
    "    Q1 = df[col].quantile(0.25)\n",
    "    Q3 = df[col].quantile(0.75)\n",
    "    IQR = Q3 - Q1\n",
    "    lwr_bnd = Q1 - 1.5 * IQR\n",
    "    upr_bnd = Q3 + 1.5 * IQR\n",
    "    outliers_count = df[(df[col] < lwr_bnd) | (df[col] > upr_bnd)].shape[0]\n",
    "    outliers[col] = {\n",
    "        'Conteo': outliers_count,\n",
    "        'Porcentaje': round(outliers_count / df.shape[0] * 100, 2)\n",
    "    }\n",
    "display(pd.DataFrame(outliers).T)\n",
    "\n",
    "print(f'\\n{'='*50}\\n')\n",
    "\n",
    "# --- Uso de memoria ---\n",
    "print(f'{'-'*30}\\nUso de memoria:\\n{'-'*30}')\n",
    "display(df.memory_usage(deep=True).to_frame('Bytes'))\n",
    "\n",
    "print(f'\\n{'~'*50}')"
   ]
  },
  {
   "cell_type": "markdown",
   "id": "f674ddfa",
   "metadata": {},
   "source": [
    "### 2-. EDA (visual)"
   ]
  },
  {
   "cell_type": "code",
   "execution_count": 130,
   "id": "8d0e69b8",
   "metadata": {},
   "outputs": [
    {
     "name": "stdout",
     "output_type": "stream",
     "text": [
      "~~~~~~~~~~~~~~~~~~~~~~~~~~~~~~~~~~~~~~~~~~~~~~~~~~\n",
      "EXPLORACIÓN VISUAL\n",
      "~~~~~~~~~~~~~~~~~~~~~~~~~~~~~~~~~~~~~~~~~~~~~~~~~~\n",
      "\n",
      "------------------------------\n",
      "Histogramas:\n",
      "------------------------------\n"
     ]
    },
    {
     "data": {
      "image/png": "[encoded data removed]",
      "text/plain": [
       "<Figure size 1500x800 with 6 Axes>"
      ]
     },
     "metadata": {},
     "output_type": "display_data"
    },
    {
     "name": "stdout",
     "output_type": "stream",
     "text": [
      "\n",
      "==================================================\n",
      "\n",
      "------------------------------\n",
      "Diagramas de caja:\n",
      "------------------------------\n"
     ]
    },
    {
     "data": {
      "image/png": "[encoded data removed]",
      "text/plain": [
       "<Figure size 1500x800 with 6 Axes>"
      ]
     },
     "metadata": {},
     "output_type": "display_data"
    },
    {
     "name": "stdout",
     "output_type": "stream",
     "text": [
      "\n",
      "==================================================\n",
      "\n",
      "------------------------------\n",
      "Gráficas de barras:\n",
      "------------------------------\n"
     ]
    },
    {
     "data": {
      "image/png": "[encoded data removed]",
      "text/plain": [
       "<Figure size 1500x800 with 5 Axes>"
      ]
     },
     "metadata": {},
     "output_type": "display_data"
    },
    {
     "name": "stdout",
     "output_type": "stream",
     "text": [
      "\n",
      "==================================================\n",
      "\n",
      "------------------------------\n",
      "Matriz de correlación:\n",
      "------------------------------\n"
     ]
    },
    {
     "data": {
      "image/png": "[encoded data removed]",
      "text/plain": [
       "<Figure size 800x600 with 2 Axes>"
      ]
     },
     "metadata": {},
     "output_type": "display_data"
    },
    {
     "name": "stdout",
     "output_type": "stream",
     "text": [
      "\n",
      "==================================================\n",
      "\n",
      "------------------------------\n",
      "Gráficas bivariadas:\n",
      "------------------------------\n"
     ]
    },
    {
     "data": {
      "image/png": "[encoded data removed]",
      "text/plain": [
       "<Figure size 1500x800 with 5 Axes>"
      ]
     },
     "metadata": {},
     "output_type": "display_data"
    },
    {
     "name": "stdout",
     "output_type": "stream",
     "text": [
      "\n",
      "==================================================\n",
      "\n",
      "------------------------------\n",
      "Gráficas de violín:\n",
      "------------------------------\n"
     ]
    },
    {
     "data": {
      "image/png": "[encoded data removed]",
      "text/plain": [
       "<Figure size 1500x800 with 5 Axes>"
      ]
     },
     "metadata": {},
     "output_type": "display_data"
    },
    {
     "name": "stdout",
     "output_type": "stream",
     "text": [
      "\n",
      "~~~~~~~~~~~~~~~~~~~~~~~~~~~~~~~~~~~~~~~~~~~~~~~~~~\n"
     ]
    }
   ],
   "source": [
    "# --- TÍTULO GENERAL ---\n",
    "print(f'{'~'*50}')\n",
    "print('EXPLORACIÓN VISUAL')\n",
    "print(f'{'~'*50}\\n')\n",
    "\n",
    "# --- Configuración de despliegue ---\n",
    "num_cols = df.select_dtypes(include=[np.number]).columns\n",
    "obj_cols = df.select_dtypes(include=['object']).columns\n",
    "n_num_cols = len(num_cols)\n",
    "n_obj_cols = len(obj_cols)\n",
    "cols_per_row = 3\n",
    "num_rows = (n_num_cols // cols_per_row) + int(n_num_cols % cols_per_row != 0)\n",
    "obj_rows = (n_obj_cols // cols_per_row) + int(n_obj_cols % cols_per_row != 0)\n",
    "\n",
    "# --- Configuración de estilo ---\n",
    "sns.set_palette('pastel')\n",
    "sns.set_style('whitegrid')\n",
    "tight_layout = True\n",
    "\n",
    "# --- Histogramas ---\n",
    "print(f'{'-'*30}\\nHistogramas:\\n{'-'*30}')\n",
    "fig, axes = plt.subplots(num_rows, cols_per_row, figsize=(cols_per_row*5, num_rows*4))\n",
    "axes = axes.flatten()\n",
    "\n",
    "for i, col in enumerate(num_cols):\n",
    "    sns.histplot(df[col], kde=True, ax=axes[i], color='skyblue')\n",
    "    axes[i].set_title(f'{col}')\n",
    "    axes[i].set_ylabel('Frecuencia')\n",
    "    axes[i].grid(True)\n",
    "\n",
    "for j in range(i+1, len(axes)):\n",
    "    fig.delaxes(axes[j])\n",
    "\n",
    "plt.tight_layout()\n",
    "plt.show()\n",
    "\n",
    "print(f'\\n{'='*50}\\n')\n",
    "\n",
    "# --- Diagramas de caja ---\n",
    "print(f'{'-'*30}\\nDiagramas de caja:\\n{'-'*30}')\n",
    "fig, axes = plt.subplots(num_rows, cols_per_row, figsize=(cols_per_row*5, num_rows*4))\n",
    "axes = axes.flatten()\n",
    "\n",
    "for i, col in enumerate(num_cols):\n",
    "    sns.boxplot(df[col], ax=axes[i], color='lightgreen', flierprops=dict(markerfacecolor='purple', marker='o'))\n",
    "    axes[i].axhline(df[col].mean(), color='red', linestyle='--', label='Media')\n",
    "    axes[i].axhline(df[col].median(), color='green', linestyle='-', label='Mediana')\n",
    "    axes[i].set_title(f'{col}')\n",
    "    axes[i].set_ylabel('Valor:')\n",
    "    axes[i].grid(True)\n",
    "    axes[i].legend()\n",
    "\n",
    "for j in range(i+1, len(axes)):\n",
    "    fig.delaxes(axes[j])\n",
    "\n",
    "plt.tight_layout()\n",
    "plt.show()\n",
    "\n",
    "print(f'\\n{'='*50}\\n')\n",
    "\n",
    "# --- Gráficos de barras ---\n",
    "print(f'{'-'*30}\\nGráficas de barras:\\n{'-'*30}')\n",
    "fig, axes = plt.subplots(obj_rows, cols_per_row, figsize=(cols_per_row*5, obj_rows*4))\n",
    "axes = axes.flatten()\n",
    "\n",
    "for i, col in enumerate(obj_cols):\n",
    "    sns.countplot(y=df[col], ax=axes[i], alpha=0.6, palette='pastel', order=df[col].value_counts().index, dodge=True, hue=df[target_column] if col != target_column else None)\n",
    "    axes[i].set_title(f'{col}')\n",
    "    axes[i].set_xlabel('Frecuencia:')\n",
    "    axes[i].grid(True)\n",
    "\n",
    "for j in range(i+1, len(axes)):\n",
    "    fig.delaxes(axes[j])\n",
    "\n",
    "plt.tight_layout()\n",
    "plt.show()\n",
    "\n",
    "print(f'\\n{'='*50}\\n')\n",
    "\n",
    "# --- Matriz de correlación ---\n",
    "print(f'{'-'*30}\\nMatriz de correlación:\\n{'-'*30}')\n",
    "plt.figure(figsize=(8, 6))\n",
    "sns.heatmap(df.select_dtypes(include=[np.number]).corr(), cmap='coolwarm', annot=True, fmt=\".2f\", cbar_kws={\"shrink\": .8}, center=0)\n",
    "plt.show()\n",
    "\n",
    "print(f'\\n{'='*50}\\n')\n",
    "\n",
    "# --- Gráficas bivariadas ---\n",
    "print(f'{'-'*30}\\nGráficas bivariadas:\\n{'-'*30}')\n",
    "fig, axes = plt.subplots(num_rows, cols_per_row, figsize=(cols_per_row*5, num_rows*4))\n",
    "axes = axes.flatten()\n",
    "\n",
    "num_cols_no_target_column = [col for col in num_cols if col != target_column]\n",
    "\n",
    "for i, col in enumerate(num_cols_no_target_column):\n",
    "    if col != target_column:\n",
    "        sns.scatterplot(x=df[col], y=df[target_column], ax=axes[i], color='skyblue')\n",
    "        sns.regplot(x=df[col], y=df[target_column], scatter=False, ax=axes[i], color='red', label='Línea de tendencia')\n",
    "        axes[i].set_title(f'{col} vs {target_column}:')\n",
    "        axes[i].set_xlabel(col)\n",
    "        axes[i].set_ylabel(target_column)\n",
    "        axes[i].grid(True)\n",
    "\n",
    "for j in range(i+1, len(axes)):\n",
    "    fig.delaxes(axes[j])\n",
    "\n",
    "plt.tight_layout()\n",
    "plt.show()\n",
    "\n",
    "print(f'\\n{'='*50}\\n')\n",
    "\n",
    "# --- Gráficas de violín ---\n",
    "print(f'{'-'*30}\\nGráficas de violín:\\n{'-'*30}')\n",
    "fig, axes = plt.subplots(num_rows, cols_per_row, figsize=(cols_per_row*5, num_rows*4))\n",
    "axes = axes.flatten()\n",
    "\n",
    "num_cols_no_target_column = [col for col in num_cols if col != target_column]\n",
    "\n",
    "for i, col in enumerate(num_cols_no_target_column):\n",
    "    if col != target_column:\n",
    "        sns.violinplot(x=df[target_column], y=df[col], ax=axes[i], palette='pastel', hue=df[target_column] if col != target_column else None)\n",
    "        axes[i].axhline(df[col].mean(), color='red', linestyle='--', label='Media')\n",
    "        axes[i].axhline(df[col].median(), color='green', linestyle='-', label='Mediana')\n",
    "        axes[i].set_title(f'{col} vs {target_column}:')\n",
    "        axes[i].set_xlabel(target_column)\n",
    "        axes[i].set_ylabel(col)\n",
    "        axes[i].grid(True)\n",
    "        axes[i].legend()\n",
    "\n",
    "for j in range(i+1, len(axes)):\n",
    "    fig.delaxes(axes[j])\n",
    "\n",
    "plt.tight_layout()\n",
    "plt.show()\n",
    "\n",
    "print(f'\\n{'~'*50}')"
   ]
  },
  {
   "cell_type": "markdown",
   "id": "90601c04",
   "metadata": {},
   "source": [
    "### 3-. Limpieza"
   ]
  },
  {
   "cell_type": "code",
   "execution_count": null,
   "id": "38a807f4",
   "metadata": {},
   "outputs": [
    {
     "name": "stdout",
     "output_type": "stream",
     "text": [
      "~~~~~~~~~~~~~~~~~~~~~~~~~~~~~~~~~~~~~~~~~~~~~~~~~~\n",
      "LIMPIEZA Y PREPARACIÓN DE DATOS\n",
      "~~~~~~~~~~~~~~~~~~~~~~~~~~~~~~~~~~~~~~~~~~~~~~~~~~\n",
      "\n",
      "------------------------------\n",
      "Eliminación de columnas irrelevantes:\n",
      "------------------------------\n",
      "\n",
      "Columnas eliminadas: ['class', 'embark_town', 'alive']\n",
      "\n",
      "==================================================\n",
      "\n",
      "------------------------------\n",
      "Eliminación de duplicados:\n",
      "------------------------------\n"
     ]
    },
    {
     "data": {
      "application/vnd.microsoft.datawrangler.viewer.v0+json": {
       "columns": [
        {
         "name": "index",
         "rawType": "int64",
         "type": "integer"
        },
        {
         "name": "survived",
         "rawType": "int64",
         "type": "integer"
        },
        {
         "name": "pclass",
         "rawType": "int64",
         "type": "integer"
        },
        {
         "name": "sex",
         "rawType": "object",
         "type": "string"
        },
        {
         "name": "age",
         "rawType": "float64",
         "type": "float"
        },
        {
         "name": "sibsp",
         "rawType": "int64",
         "type": "integer"
        },
        {
         "name": "parch",
         "rawType": "int64",
         "type": "integer"
        },
        {
         "name": "fare",
         "rawType": "float64",
         "type": "float"
        },
        {
         "name": "embarked",
         "rawType": "object",
         "type": "string"
        },
        {
         "name": "class",
         "rawType": "category",
         "type": "unknown"
        },
        {
         "name": "who",
         "rawType": "object",
         "type": "string"
        },
        {
         "name": "adult_male",
         "rawType": "bool",
         "type": "boolean"
        },
        {
         "name": "deck",
         "rawType": "category",
         "type": "unknown"
        },
        {
         "name": "embark_town",
         "rawType": "object",
         "type": "string"
        },
        {
         "name": "alive",
         "rawType": "object",
         "type": "string"
        },
        {
         "name": "alone",
         "rawType": "bool",
         "type": "boolean"
        }
       ],
       "ref": "985cb44f-fe4c-45bd-b72c-10418c63438f",
       "rows": [
        [
         "47",
         "1",
         "3",
         "female",
         null,
         "0",
         "0",
         "7.75",
         "Q",
         "Third",
         "woman",
         "False",
         null,
         "Queenstown",
         "yes",
         "True"
        ],
        [
         "76",
         "0",
         "3",
         "male",
         null,
         "0",
         "0",
         "7.8958",
         "S",
         "Third",
         "man",
         "True",
         null,
         "Southampton",
         "no",
         "True"
        ],
        [
         "77",
         "0",
         "3",
         "male",
         null,
         "0",
         "0",
         "8.05",
         "S",
         "Third",
         "man",
         "True",
         null,
         "Southampton",
         "no",
         "True"
        ],
        [
         "87",
         "0",
         "3",
         "male",
         null,
         "0",
         "0",
         "8.05",
         "S",
         "Third",
         "man",
         "True",
         null,
         "Southampton",
         "no",
         "True"
        ],
        [
         "95",
         "0",
         "3",
         "male",
         null,
         "0",
         "0",
         "8.05",
         "S",
         "Third",
         "man",
         "True",
         null,
         "Southampton",
         "no",
         "True"
        ],
        [
         "101",
         "0",
         "3",
         "male",
         null,
         "0",
         "0",
         "7.8958",
         "S",
         "Third",
         "man",
         "True",
         null,
         "Southampton",
         "no",
         "True"
        ],
        [
         "121",
         "0",
         "3",
         "male",
         null,
         "0",
         "0",
         "8.05",
         "S",
         "Third",
         "man",
         "True",
         null,
         "Southampton",
         "no",
         "True"
        ],
        [
         "133",
         "1",
         "2",
         "female",
         "29.0",
         "1",
         "0",
         "26.0",
         "S",
         "Second",
         "woman",
         "False",
         null,
         "Southampton",
         "yes",
         "False"
        ],
        [
         "173",
         "0",
         "3",
         "male",
         "21.0",
         "0",
         "0",
         "7.925",
         "S",
         "Third",
         "man",
         "True",
         null,
         "Southampton",
         "no",
         "True"
        ],
        [
         "196",
         "0",
         "3",
         "male",
         null,
         "0",
         "0",
         "7.75",
         "Q",
         "Third",
         "man",
         "True",
         null,
         "Queenstown",
         "no",
         "True"
        ],
        [
         "198",
         "1",
         "3",
         "female",
         null,
         "0",
         "0",
         "7.75",
         "Q",
         "Third",
         "woman",
         "False",
         null,
         "Queenstown",
         "yes",
         "True"
        ],
        [
         "201",
         "0",
         "3",
         "male",
         null,
         "8",
         "2",
         "69.55",
         "S",
         "Third",
         "man",
         "True",
         null,
         "Southampton",
         "no",
         "False"
        ],
        [
         "213",
         "0",
         "2",
         "male",
         "30.0",
         "0",
         "0",
         "13.0",
         "S",
         "Second",
         "man",
         "True",
         null,
         "Southampton",
         "no",
         "True"
        ],
        [
         "223",
         "0",
         "3",
         "male",
         null,
         "0",
         "0",
         "7.8958",
         "S",
         "Third",
         "man",
         "True",
         null,
         "Southampton",
         "no",
         "True"
        ],
        [
         "241",
         "1",
         "3",
         "female",
         null,
         "1",
         "0",
         "15.5",
         "Q",
         "Third",
         "woman",
         "False",
         null,
         "Queenstown",
         "yes",
         "False"
        ],
        [
         "260",
         "0",
         "3",
         "male",
         null,
         "0",
         "0",
         "7.75",
         "Q",
         "Third",
         "man",
         "True",
         null,
         "Queenstown",
         "no",
         "True"
        ],
        [
         "274",
         "1",
         "3",
         "female",
         null,
         "0",
         "0",
         "7.75",
         "Q",
         "Third",
         "woman",
         "False",
         null,
         "Queenstown",
         "yes",
         "True"
        ],
        [
         "295",
         "0",
         "1",
         "male",
         null,
         "0",
         "0",
         "27.7208",
         "C",
         "First",
         "man",
         "True",
         null,
         "Cherbourg",
         "no",
         "True"
        ],
        [
         "300",
         "1",
         "3",
         "female",
         null,
         "0",
         "0",
         "7.75",
         "Q",
         "Third",
         "woman",
         "False",
         null,
         "Queenstown",
         "yes",
         "True"
        ],
        [
         "304",
         "0",
         "3",
         "male",
         null,
         "0",
         "0",
         "8.05",
         "S",
         "Third",
         "man",
         "True",
         null,
         "Southampton",
         "no",
         "True"
        ],
        [
         "313",
         "0",
         "3",
         "male",
         "28.0",
         "0",
         "0",
         "7.8958",
         "S",
         "Third",
         "man",
         "True",
         null,
         "Southampton",
         "no",
         "True"
        ],
        [
         "320",
         "0",
         "3",
         "male",
         "22.0",
         "0",
         "0",
         "7.25",
         "S",
         "Third",
         "man",
         "True",
         null,
         "Southampton",
         "no",
         "True"
        ],
        [
         "324",
         "0",
         "3",
         "male",
         null,
         "8",
         "2",
         "69.55",
         "S",
         "Third",
         "man",
         "True",
         null,
         "Southampton",
         "no",
         "False"
        ],
        [
         "335",
         "0",
         "3",
         "male",
         null,
         "0",
         "0",
         "7.8958",
         "S",
         "Third",
         "man",
         "True",
         null,
         "Southampton",
         "no",
         "True"
        ],
        [
         "343",
         "0",
         "2",
         "male",
         "25.0",
         "0",
         "0",
         "13.0",
         "S",
         "Second",
         "man",
         "True",
         null,
         "Southampton",
         "no",
         "True"
        ],
        [
         "354",
         "0",
         "3",
         "male",
         null,
         "0",
         "0",
         "7.225",
         "C",
         "Third",
         "man",
         "True",
         null,
         "Cherbourg",
         "no",
         "True"
        ],
        [
         "355",
         "0",
         "3",
         "male",
         "28.0",
         "0",
         "0",
         "9.5",
         "S",
         "Third",
         "man",
         "True",
         null,
         "Southampton",
         "no",
         "True"
        ],
        [
         "358",
         "1",
         "3",
         "female",
         null,
         "0",
         "0",
         "7.8792",
         "Q",
         "Third",
         "woman",
         "False",
         null,
         "Queenstown",
         "yes",
         "True"
        ],
        [
         "359",
         "1",
         "3",
         "female",
         null,
         "0",
         "0",
         "7.8792",
         "Q",
         "Third",
         "woman",
         "False",
         null,
         "Queenstown",
         "yes",
         "True"
        ],
        [
         "364",
         "0",
         "3",
         "male",
         null,
         "1",
         "0",
         "15.5",
         "Q",
         "Third",
         "man",
         "True",
         null,
         "Queenstown",
         "no",
         "False"
        ],
        [
         "368",
         "1",
         "3",
         "female",
         null,
         "0",
         "0",
         "7.75",
         "Q",
         "Third",
         "woman",
         "False",
         null,
         "Queenstown",
         "yes",
         "True"
        ],
        [
         "384",
         "0",
         "3",
         "male",
         null,
         "0",
         "0",
         "7.8958",
         "S",
         "Third",
         "man",
         "True",
         null,
         "Southampton",
         "no",
         "True"
        ],
        [
         "409",
         "0",
         "3",
         "female",
         null,
         "3",
         "1",
         "25.4667",
         "S",
         "Third",
         "woman",
         "False",
         null,
         "Southampton",
         "no",
         "False"
        ],
        [
         "410",
         "0",
         "3",
         "male",
         null,
         "0",
         "0",
         "7.8958",
         "S",
         "Third",
         "man",
         "True",
         null,
         "Southampton",
         "no",
         "True"
        ],
        [
         "413",
         "0",
         "2",
         "male",
         null,
         "0",
         "0",
         "0.0",
         "S",
         "Second",
         "man",
         "True",
         null,
         "Southampton",
         "no",
         "True"
        ],
        [
         "418",
         "0",
         "2",
         "male",
         "30.0",
         "0",
         "0",
         "13.0",
         "S",
         "Second",
         "man",
         "True",
         null,
         "Southampton",
         "no",
         "True"
        ],
        [
         "420",
         "0",
         "3",
         "male",
         null,
         "0",
         "0",
         "7.8958",
         "C",
         "Third",
         "man",
         "True",
         null,
         "Cherbourg",
         "no",
         "True"
        ],
        [
         "425",
         "0",
         "3",
         "male",
         null,
         "0",
         "0",
         "7.25",
         "S",
         "Third",
         "man",
         "True",
         null,
         "Southampton",
         "no",
         "True"
        ],
        [
         "428",
         "0",
         "3",
         "male",
         null,
         "0",
         "0",
         "7.75",
         "Q",
         "Third",
         "man",
         "True",
         null,
         "Queenstown",
         "no",
         "True"
        ],
        [
         "431",
         "1",
         "3",
         "female",
         null,
         "1",
         "0",
         "16.1",
         "S",
         "Third",
         "woman",
         "False",
         null,
         "Southampton",
         "yes",
         "False"
        ],
        [
         "454",
         "0",
         "3",
         "male",
         null,
         "0",
         "0",
         "8.05",
         "S",
         "Third",
         "man",
         "True",
         null,
         "Southampton",
         "no",
         "True"
        ],
        [
         "459",
         "0",
         "3",
         "male",
         null,
         "0",
         "0",
         "7.75",
         "Q",
         "Third",
         "man",
         "True",
         null,
         "Queenstown",
         "no",
         "True"
        ],
        [
         "464",
         "0",
         "3",
         "male",
         null,
         "0",
         "0",
         "8.05",
         "S",
         "Third",
         "man",
         "True",
         null,
         "Southampton",
         "no",
         "True"
        ],
        [
         "466",
         "0",
         "2",
         "male",
         null,
         "0",
         "0",
         "0.0",
         "S",
         "Second",
         "man",
         "True",
         null,
         "Southampton",
         "no",
         "True"
        ],
        [
         "470",
         "0",
         "3",
         "male",
         null,
         "0",
         "0",
         "7.25",
         "S",
         "Third",
         "man",
         "True",
         null,
         "Southampton",
         "no",
         "True"
        ],
        [
         "476",
         "0",
         "2",
         "male",
         "34.0",
         "1",
         "0",
         "21.0",
         "S",
         "Second",
         "man",
         "True",
         null,
         "Southampton",
         "no",
         "False"
        ],
        [
         "481",
         "0",
         "2",
         "male",
         null,
         "0",
         "0",
         "0.0",
         "S",
         "Second",
         "man",
         "True",
         null,
         "Southampton",
         "no",
         "True"
        ],
        [
         "485",
         "0",
         "3",
         "female",
         null,
         "3",
         "1",
         "25.4667",
         "S",
         "Third",
         "woman",
         "False",
         null,
         "Southampton",
         "no",
         "False"
        ],
        [
         "488",
         "0",
         "3",
         "male",
         "30.0",
         "0",
         "0",
         "8.05",
         "S",
         "Third",
         "man",
         "True",
         null,
         "Southampton",
         "no",
         "True"
        ],
        [
         "490",
         "0",
         "3",
         "male",
         null,
         "1",
         "0",
         "19.9667",
         "S",
         "Third",
         "man",
         "True",
         null,
         "Southampton",
         "no",
         "False"
        ]
       ],
       "shape": {
        "columns": 15,
        "rows": 107
       }
      },
      "text/html": [
       "<div>\n",
       "<style scoped>\n",
       "    .dataframe tbody tr th:only-of-type {\n",
       "        vertical-align: middle;\n",
       "    }\n",
       "\n",
       "    .dataframe tbody tr th {\n",
       "        vertical-align: top;\n",
       "    }\n",
       "\n",
       "    .dataframe thead th {\n",
       "        text-align: right;\n",
       "    }\n",
       "</style>\n",
       "<table border=\"1\" class=\"dataframe\">\n",
       "  <thead>\n",
       "    <tr style=\"text-align: right;\">\n",
       "      <th></th>\n",
       "      <th>survived</th>\n",
       "      <th>pclass</th>\n",
       "      <th>sex</th>\n",
       "      <th>age</th>\n",
       "      <th>sibsp</th>\n",
       "      <th>parch</th>\n",
       "      <th>fare</th>\n",
       "      <th>embarked</th>\n",
       "      <th>class</th>\n",
       "      <th>who</th>\n",
       "      <th>adult_male</th>\n",
       "      <th>deck</th>\n",
       "      <th>embark_town</th>\n",
       "      <th>alive</th>\n",
       "      <th>alone</th>\n",
       "    </tr>\n",
       "  </thead>\n",
       "  <tbody>\n",
       "    <tr>\n",
       "      <th>47</th>\n",
       "      <td>1</td>\n",
       "      <td>3</td>\n",
       "      <td>female</td>\n",
       "      <td>NaN</td>\n",
       "      <td>0</td>\n",
       "      <td>0</td>\n",
       "      <td>7.7500</td>\n",
       "      <td>Q</td>\n",
       "      <td>Third</td>\n",
       "      <td>woman</td>\n",
       "      <td>False</td>\n",
       "      <td>NaN</td>\n",
       "      <td>Queenstown</td>\n",
       "      <td>yes</td>\n",
       "      <td>True</td>\n",
       "    </tr>\n",
       "    <tr>\n",
       "      <th>76</th>\n",
       "      <td>0</td>\n",
       "      <td>3</td>\n",
       "      <td>male</td>\n",
       "      <td>NaN</td>\n",
       "      <td>0</td>\n",
       "      <td>0</td>\n",
       "      <td>7.8958</td>\n",
       "      <td>S</td>\n",
       "      <td>Third</td>\n",
       "      <td>man</td>\n",
       "      <td>True</td>\n",
       "      <td>NaN</td>\n",
       "      <td>Southampton</td>\n",
       "      <td>no</td>\n",
       "      <td>True</td>\n",
       "    </tr>\n",
       "    <tr>\n",
       "      <th>77</th>\n",
       "      <td>0</td>\n",
       "      <td>3</td>\n",
       "      <td>male</td>\n",
       "      <td>NaN</td>\n",
       "      <td>0</td>\n",
       "      <td>0</td>\n",
       "      <td>8.0500</td>\n",
       "      <td>S</td>\n",
       "      <td>Third</td>\n",
       "      <td>man</td>\n",
       "      <td>True</td>\n",
       "      <td>NaN</td>\n",
       "      <td>Southampton</td>\n",
       "      <td>no</td>\n",
       "      <td>True</td>\n",
       "    </tr>\n",
       "    <tr>\n",
       "      <th>87</th>\n",
       "      <td>0</td>\n",
       "      <td>3</td>\n",
       "      <td>male</td>\n",
       "      <td>NaN</td>\n",
       "      <td>0</td>\n",
       "      <td>0</td>\n",
       "      <td>8.0500</td>\n",
       "      <td>S</td>\n",
       "      <td>Third</td>\n",
       "      <td>man</td>\n",
       "      <td>True</td>\n",
       "      <td>NaN</td>\n",
       "      <td>Southampton</td>\n",
       "      <td>no</td>\n",
       "      <td>True</td>\n",
       "    </tr>\n",
       "    <tr>\n",
       "      <th>95</th>\n",
       "      <td>0</td>\n",
       "      <td>3</td>\n",
       "      <td>male</td>\n",
       "      <td>NaN</td>\n",
       "      <td>0</td>\n",
       "      <td>0</td>\n",
       "      <td>8.0500</td>\n",
       "      <td>S</td>\n",
       "      <td>Third</td>\n",
       "      <td>man</td>\n",
       "      <td>True</td>\n",
       "      <td>NaN</td>\n",
       "      <td>Southampton</td>\n",
       "      <td>no</td>\n",
       "      <td>True</td>\n",
       "    </tr>\n",
       "    <tr>\n",
       "      <th>...</th>\n",
       "      <td>...</td>\n",
       "      <td>...</td>\n",
       "      <td>...</td>\n",
       "      <td>...</td>\n",
       "      <td>...</td>\n",
       "      <td>...</td>\n",
       "      <td>...</td>\n",
       "      <td>...</td>\n",
       "      <td>...</td>\n",
       "      <td>...</td>\n",
       "      <td>...</td>\n",
       "      <td>...</td>\n",
       "      <td>...</td>\n",
       "      <td>...</td>\n",
       "      <td>...</td>\n",
       "    </tr>\n",
       "    <tr>\n",
       "      <th>870</th>\n",
       "      <td>0</td>\n",
       "      <td>3</td>\n",
       "      <td>male</td>\n",
       "      <td>26.0</td>\n",
       "      <td>0</td>\n",
       "      <td>0</td>\n",
       "      <td>7.8958</td>\n",
       "      <td>S</td>\n",
       "      <td>Third</td>\n",
       "      <td>man</td>\n",
       "      <td>True</td>\n",
       "      <td>NaN</td>\n",
       "      <td>Southampton</td>\n",
       "      <td>no</td>\n",
       "      <td>True</td>\n",
       "    </tr>\n",
       "    <tr>\n",
       "      <th>877</th>\n",
       "      <td>0</td>\n",
       "      <td>3</td>\n",
       "      <td>male</td>\n",
       "      <td>19.0</td>\n",
       "      <td>0</td>\n",
       "      <td>0</td>\n",
       "      <td>7.8958</td>\n",
       "      <td>S</td>\n",
       "      <td>Third</td>\n",
       "      <td>man</td>\n",
       "      <td>True</td>\n",
       "      <td>NaN</td>\n",
       "      <td>Southampton</td>\n",
       "      <td>no</td>\n",
       "      <td>True</td>\n",
       "    </tr>\n",
       "    <tr>\n",
       "      <th>878</th>\n",
       "      <td>0</td>\n",
       "      <td>3</td>\n",
       "      <td>male</td>\n",
       "      <td>NaN</td>\n",
       "      <td>0</td>\n",
       "      <td>0</td>\n",
       "      <td>7.8958</td>\n",
       "      <td>S</td>\n",
       "      <td>Third</td>\n",
       "      <td>man</td>\n",
       "      <td>True</td>\n",
       "      <td>NaN</td>\n",
       "      <td>Southampton</td>\n",
       "      <td>no</td>\n",
       "      <td>True</td>\n",
       "    </tr>\n",
       "    <tr>\n",
       "      <th>884</th>\n",
       "      <td>0</td>\n",
       "      <td>3</td>\n",
       "      <td>male</td>\n",
       "      <td>25.0</td>\n",
       "      <td>0</td>\n",
       "      <td>0</td>\n",
       "      <td>7.0500</td>\n",
       "      <td>S</td>\n",
       "      <td>Third</td>\n",
       "      <td>man</td>\n",
       "      <td>True</td>\n",
       "      <td>NaN</td>\n",
       "      <td>Southampton</td>\n",
       "      <td>no</td>\n",
       "      <td>True</td>\n",
       "    </tr>\n",
       "    <tr>\n",
       "      <th>886</th>\n",
       "      <td>0</td>\n",
       "      <td>2</td>\n",
       "      <td>male</td>\n",
       "      <td>27.0</td>\n",
       "      <td>0</td>\n",
       "      <td>0</td>\n",
       "      <td>13.0000</td>\n",
       "      <td>S</td>\n",
       "      <td>Second</td>\n",
       "      <td>man</td>\n",
       "      <td>True</td>\n",
       "      <td>NaN</td>\n",
       "      <td>Southampton</td>\n",
       "      <td>no</td>\n",
       "      <td>True</td>\n",
       "    </tr>\n",
       "  </tbody>\n",
       "</table>\n",
       "<p>107 rows × 15 columns</p>\n",
       "</div>"
      ],
      "text/plain": [
       "     survived  pclass     sex   age  sibsp  parch     fare embarked   class  \\\n",
       "47          1       3  female   NaN      0      0   7.7500        Q   Third   \n",
       "76          0       3    male   NaN      0      0   7.8958        S   Third   \n",
       "77          0       3    male   NaN      0      0   8.0500        S   Third   \n",
       "87          0       3    male   NaN      0      0   8.0500        S   Third   \n",
       "95          0       3    male   NaN      0      0   8.0500        S   Third   \n",
       "..        ...     ...     ...   ...    ...    ...      ...      ...     ...   \n",
       "870         0       3    male  26.0      0      0   7.8958        S   Third   \n",
       "877         0       3    male  19.0      0      0   7.8958        S   Third   \n",
       "878         0       3    male   NaN      0      0   7.8958        S   Third   \n",
       "884         0       3    male  25.0      0      0   7.0500        S   Third   \n",
       "886         0       2    male  27.0      0      0  13.0000        S  Second   \n",
       "\n",
       "       who  adult_male deck  embark_town alive  alone  \n",
       "47   woman       False  NaN   Queenstown   yes   True  \n",
       "76     man        True  NaN  Southampton    no   True  \n",
       "77     man        True  NaN  Southampton    no   True  \n",
       "87     man        True  NaN  Southampton    no   True  \n",
       "95     man        True  NaN  Southampton    no   True  \n",
       "..     ...         ...  ...          ...   ...    ...  \n",
       "870    man        True  NaN  Southampton    no   True  \n",
       "877    man        True  NaN  Southampton    no   True  \n",
       "878    man        True  NaN  Southampton    no   True  \n",
       "884    man        True  NaN  Southampton    no   True  \n",
       "886    man        True  NaN  Southampton    no   True  \n",
       "\n",
       "[107 rows x 15 columns]"
      ]
     },
     "metadata": {},
     "output_type": "display_data"
    },
    {
     "name": "stdout",
     "output_type": "stream",
     "text": [
      "\n",
      "Duplicados eliminados: 107\n",
      "\n",
      "==================================================\n",
      "\n",
      "------------------------------\n",
      "Información de datos atipicos:\n",
      "------------------------------\n"
     ]
    },
    {
     "data": {
      "application/vnd.microsoft.datawrangler.viewer.v0+json": {
       "columns": [
        {
         "name": "index",
         "rawType": "object",
         "type": "string"
        },
        {
         "name": "Conteo",
         "rawType": "float64",
         "type": "float"
        },
        {
         "name": "Porcentaje",
         "rawType": "float64",
         "type": "float"
        }
       ],
       "ref": "f387d267-3057-4ca8-995b-149d2d65c1d9",
       "rows": [
        [
         "survived",
         "0.0",
         "0.0"
        ],
        [
         "pclass",
         "0.0",
         "0.0"
        ],
        [
         "age",
         "11.0",
         "1.23"
        ],
        [
         "sibsp",
         "46.0",
         "5.16"
        ],
        [
         "parch",
         "213.0",
         "23.91"
        ],
        [
         "fare",
         "116.0",
         "13.02"
        ]
       ],
       "shape": {
        "columns": 2,
        "rows": 6
       }
      },
      "text/html": [
       "<div>\n",
       "<style scoped>\n",
       "    .dataframe tbody tr th:only-of-type {\n",
       "        vertical-align: middle;\n",
       "    }\n",
       "\n",
       "    .dataframe tbody tr th {\n",
       "        vertical-align: top;\n",
       "    }\n",
       "\n",
       "    .dataframe thead th {\n",
       "        text-align: right;\n",
       "    }\n",
       "</style>\n",
       "<table border=\"1\" class=\"dataframe\">\n",
       "  <thead>\n",
       "    <tr style=\"text-align: right;\">\n",
       "      <th></th>\n",
       "      <th>Conteo</th>\n",
       "      <th>Porcentaje</th>\n",
       "    </tr>\n",
       "  </thead>\n",
       "  <tbody>\n",
       "    <tr>\n",
       "      <th>survived</th>\n",
       "      <td>0.0</td>\n",
       "      <td>0.00</td>\n",
       "    </tr>\n",
       "    <tr>\n",
       "      <th>pclass</th>\n",
       "      <td>0.0</td>\n",
       "      <td>0.00</td>\n",
       "    </tr>\n",
       "    <tr>\n",
       "      <th>age</th>\n",
       "      <td>11.0</td>\n",
       "      <td>1.23</td>\n",
       "    </tr>\n",
       "    <tr>\n",
       "      <th>sibsp</th>\n",
       "      <td>46.0</td>\n",
       "      <td>5.16</td>\n",
       "    </tr>\n",
       "    <tr>\n",
       "      <th>parch</th>\n",
       "      <td>213.0</td>\n",
       "      <td>23.91</td>\n",
       "    </tr>\n",
       "    <tr>\n",
       "      <th>fare</th>\n",
       "      <td>116.0</td>\n",
       "      <td>13.02</td>\n",
       "    </tr>\n",
       "  </tbody>\n",
       "</table>\n",
       "</div>"
      ],
      "text/plain": [
       "          Conteo  Porcentaje\n",
       "survived     0.0        0.00\n",
       "pclass       0.0        0.00\n",
       "age         11.0        1.23\n",
       "sibsp       46.0        5.16\n",
       "parch      213.0       23.91\n",
       "fare       116.0       13.02"
      ]
     },
     "metadata": {},
     "output_type": "display_data"
    },
    {
     "name": "stdout",
     "output_type": "stream",
     "text": [
      "------------------------------\n",
      "Manejo de datos atipicos:\n",
      "------------------------------\n"
     ]
    },
    {
     "data": {
      "application/vnd.microsoft.datawrangler.viewer.v0+json": {
       "columns": [
        {
         "name": "index",
         "rawType": "object",
         "type": "string"
        },
        {
         "name": "Conteo",
         "rawType": "float64",
         "type": "float"
        },
        {
         "name": "Porcentaje",
         "rawType": "float64",
         "type": "float"
        }
       ],
       "ref": "9373c3cf-35e9-41f7-a304-a4d373a9e69f",
       "rows": [
        [
         "survived",
         "0.0",
         "0.0"
        ],
        [
         "pclass",
         "0.0",
         "0.0"
        ],
        [
         "age",
         "0.0",
         "0.0"
        ],
        [
         "sibsp",
         "0.0",
         "0.0"
        ],
        [
         "parch",
         "0.0",
         "0.0"
        ],
        [
         "fare",
         "0.0",
         "0.0"
        ]
       ],
       "shape": {
        "columns": 2,
        "rows": 6
       }
      },
      "text/html": [
       "<div>\n",
       "<style scoped>\n",
       "    .dataframe tbody tr th:only-of-type {\n",
       "        vertical-align: middle;\n",
       "    }\n",
       "\n",
       "    .dataframe tbody tr th {\n",
       "        vertical-align: top;\n",
       "    }\n",
       "\n",
       "    .dataframe thead th {\n",
       "        text-align: right;\n",
       "    }\n",
       "</style>\n",
       "<table border=\"1\" class=\"dataframe\">\n",
       "  <thead>\n",
       "    <tr style=\"text-align: right;\">\n",
       "      <th></th>\n",
       "      <th>Conteo</th>\n",
       "      <th>Porcentaje</th>\n",
       "    </tr>\n",
       "  </thead>\n",
       "  <tbody>\n",
       "    <tr>\n",
       "      <th>survived</th>\n",
       "      <td>0.0</td>\n",
       "      <td>0.0</td>\n",
       "    </tr>\n",
       "    <tr>\n",
       "      <th>pclass</th>\n",
       "      <td>0.0</td>\n",
       "      <td>0.0</td>\n",
       "    </tr>\n",
       "    <tr>\n",
       "      <th>age</th>\n",
       "      <td>0.0</td>\n",
       "      <td>0.0</td>\n",
       "    </tr>\n",
       "    <tr>\n",
       "      <th>sibsp</th>\n",
       "      <td>0.0</td>\n",
       "      <td>0.0</td>\n",
       "    </tr>\n",
       "    <tr>\n",
       "      <th>parch</th>\n",
       "      <td>0.0</td>\n",
       "      <td>0.0</td>\n",
       "    </tr>\n",
       "    <tr>\n",
       "      <th>fare</th>\n",
       "      <td>0.0</td>\n",
       "      <td>0.0</td>\n",
       "    </tr>\n",
       "  </tbody>\n",
       "</table>\n",
       "</div>"
      ],
      "text/plain": [
       "          Conteo  Porcentaje\n",
       "survived     0.0         0.0\n",
       "pclass       0.0         0.0\n",
       "age          0.0         0.0\n",
       "sibsp        0.0         0.0\n",
       "parch        0.0         0.0\n",
       "fare         0.0         0.0"
      ]
     },
     "metadata": {},
     "output_type": "display_data"
    },
    {
     "name": "stdout",
     "output_type": "stream",
     "text": [
      "\n",
      "==================================================\n",
      "\n",
      "------------------------------\n",
      "Información de valores nulos:\n",
      "------------------------------\n"
     ]
    },
    {
     "data": {
      "application/vnd.microsoft.datawrangler.viewer.v0+json": {
       "columns": [
        {
         "name": "index",
         "rawType": "int64",
         "type": "integer"
        },
        {
         "name": "Columna 1",
         "rawType": "object",
         "type": "string"
        },
        {
         "name": "Columna 2",
         "rawType": "object",
         "type": "string"
        },
        {
         "name": "Correlación",
         "rawType": "float64",
         "type": "float"
        }
       ],
       "ref": "25133e82-9860-48f9-8c4a-53bfff8ddd95",
       "rows": [
        [
         "0",
         "embarked",
         "embark_town",
         "1.0"
        ]
       ],
       "shape": {
        "columns": 3,
        "rows": 1
       }
      },
      "text/html": [
       "<div>\n",
       "<style scoped>\n",
       "    .dataframe tbody tr th:only-of-type {\n",
       "        vertical-align: middle;\n",
       "    }\n",
       "\n",
       "    .dataframe tbody tr th {\n",
       "        vertical-align: top;\n",
       "    }\n",
       "\n",
       "    .dataframe thead th {\n",
       "        text-align: right;\n",
       "    }\n",
       "</style>\n",
       "<table border=\"1\" class=\"dataframe\">\n",
       "  <thead>\n",
       "    <tr style=\"text-align: right;\">\n",
       "      <th></th>\n",
       "      <th>Columna 1</th>\n",
       "      <th>Columna 2</th>\n",
       "      <th>Correlación</th>\n",
       "    </tr>\n",
       "  </thead>\n",
       "  <tbody>\n",
       "    <tr>\n",
       "      <th>0</th>\n",
       "      <td>embarked</td>\n",
       "      <td>embark_town</td>\n",
       "      <td>1.0</td>\n",
       "    </tr>\n",
       "  </tbody>\n",
       "</table>\n",
       "</div>"
      ],
      "text/plain": [
       "  Columna 1    Columna 2  Correlación\n",
       "0  embarked  embark_town          1.0"
      ]
     },
     "metadata": {},
     "output_type": "display_data"
    },
    {
     "name": "stdout",
     "output_type": "stream",
     "text": [
      "------------------------------\n",
      "Manejo de valores nulos:\n",
      "------------------------------\n"
     ]
    },
    {
     "data": {
      "text/plain": [
       "None"
      ]
     },
     "metadata": {},
     "output_type": "display_data"
    },
    {
     "name": "stdout",
     "output_type": "stream",
     "text": [
      "\n",
      "Resgitros nulos eliminados: 0\n",
      "\n",
      "==================================================\n",
      "\n",
      "------------------------------\n",
      ":\n",
      "------------------------------\n",
      "\n",
      "==================================================\n",
      "\n",
      "------------------------------\n",
      ":\n",
      "------------------------------\n",
      "\n",
      "==================================================\n",
      "\n",
      "------------------------------\n",
      ":\n",
      "------------------------------\n",
      "\n",
      "~~~~~~~~~~~~~~~~~~~~~~~~~~~~~~~~~~~~~~~~~~~~~~~~~~\n"
     ]
    }
   ],
   "source": [
    "# --- TÍTULO GENERAL ---\n",
    "print(f'{'~'*50}')\n",
    "print('LIMPIEZA Y PREPARACIÓN DE DATOS')\n",
    "print(f'{'~'*50}\\n')\n",
    "\n",
    "# --- Eliminación de columnas irrelevantes ---\n",
    "print(f'{'-'*30}\\nEliminación de columnas irrelevantes:\\n{'-'*30}')\n",
    "df_no_cols = df.drop(columns=cols_to_drop).reset_index(drop=True)\n",
    "print(f'\\nColumnas eliminadas: {cols_to_drop}')\n",
    "\n",
    "print(f'\\n{'='*50}\\n')\n",
    "\n",
    "# --- Eliminación de duplicados ---\n",
    "print(f'{'-'*30}\\nEliminación de duplicados:\\n{'-'*30}')\n",
    "df_no_dups = df.drop_duplicates().reset_index(drop=True)\n",
    "display(df[df.duplicated()])\n",
    "print(f'\\nDuplicados eliminados: {len(df[df.duplicated()])}')\n",
    "\n",
    "print(f'\\n{'='*50}\\n')\n",
    "\n",
    "# --- Información y manejo de datos atípicos ---\n",
    "print(f'{'-'*30}\\nInformación de datos atipicos:\\n{'-'*30}')\n",
    "display(pd.DataFrame(outliers).T)\n",
    "\n",
    "print(f'{'-'*30}\\nManejo de datos atipicos:\\n{'-'*30}')\n",
    "df_no_outliers = df.copy()\n",
    "outliers_df_no_outliers = {}\n",
    "for col in num_cols:\n",
    "    Q1 = df[col].quantile(0.25)\n",
    "    Q3 = df[col].quantile(0.75)\n",
    "    IQR = Q3 - Q1\n",
    "    lwr_bnd = Q1 - 1.5 * IQR\n",
    "    upr_bnd = Q3 + 1.5 * IQR\n",
    "\n",
    "    df_no_outliers[col] = df_no_outliers[col].clip(lwr_bnd, upr_bnd)\n",
    "    outliers_count_df_no_outliers = df_no_outliers[(df_no_outliers[col] < lwr_bnd) | (df_no_outliers[col] > upr_bnd)].shape[0]\n",
    "    outliers_df_no_outliers[col] = {\n",
    "        'Conteo': outliers_count_df_no_outliers,\n",
    "        'Porcentaje': round(outliers_count_df_no_outliers / df.shape[0] * 100, 2)\n",
    "    }\n",
    "display(pd.DataFrame(outliers_df_no_outliers).T)\n",
    "\n",
    "print(f'\\n{'='*50}\\n')\n",
    "\n",
    "# --- Información y manejo de valores nulos ---\n",
    "print(f'{'-'*30}\\nInformación de valores nulos:\\n{'-'*30}')\n",
    "null_cols = df.columns[df.isnull().any()]\n",
    "nulls_corr = df[null_cols].isnull().corr()\n",
    "mask = np.triu(np.ones(nulls_corr.shape), k=1).astype(bool)\n",
    "corr_vals = nulls_corr.where(mask).stack()\n",
    "df_nulls_corr = corr_vals[abs(corr_vals) >= 0.3].reset_index()\n",
    "df_nulls_corr.columns = ['Columna 1', 'Columna 2', 'Correlación']\n",
    "display(df_nulls_corr)\n",
    "\n",
    "print(f'{'-'*30}\\nManejo de valores nulos:\\n{'-'*30}')\n",
    "df_no_nulls = df.copy()\n",
    "display(df_no_nulls.dropna(how='all', inplace=True))\n",
    "df_no_nulls.dropna(how='all', inplace=True)\n",
    "print(f'\\nRegistros nulos eliminados: {len(df) - len(df_no_nulls)}')\n",
    "for column in df_no_nulls.columns:   \n",
    "    if column != target_column and df_no_nulls[column].isnull().sum() > 0:\n",
    "        if df_no_nulls[column].dtype in [np.float64, np.int64] and abs(df_no_nulls[column].skew()) > 0.5:\n",
    "            df_no_nulls[column].fillna(df_no_nulls[column].median(), inplace=True)\n",
    "        elif df_no_nulls[column].dtype in [np.float64, np.int64] and abs(df_no_nulls[column].skew()) <= 0.5:\n",
    "            df_no_nulls[column].fillna(df_no_nulls[column].mean(), inplace=True)\n",
    "        else:\n",
    "            df_no_nulls[column].fillna(df_no_nulls[column].mode()[0], inplace=True)\n",
    "\n",
    "print(f'\\n{'='*50}\\n')\n",
    "\n",
    "# ---  ---\n",
    "print(f'{'-'*30}\\n:\\n{'-'*30}')\n",
    "display()\n",
    "\n",
    "print(f'\\n{'='*50}\\n')\n",
    "\n",
    "# ---  ---\n",
    "print(f'{'-'*30}\\n:\\n{'-'*30}')\n",
    "display()\n",
    "\n",
    "print(f'\\n{'='*50}\\n')\n",
    "\n",
    "# ---  ---\n",
    "print(f'{'-'*30}\\n:\\n{'-'*30}')\n",
    "display()\n",
    "\n",
    "print(f'\\n{'~'*50}')"
   ]
  },
  {
   "cell_type": "code",
   "execution_count": null,
   "id": "ab352c82",
   "metadata": {},
   "outputs": [],
   "source": []
  },
  {
   "cell_type": "code",
   "execution_count": null,
   "id": "785ab9bd",
   "metadata": {},
   "outputs": [],
   "source": []
  },
  {
   "cell_type": "code",
   "execution_count": null,
   "id": "7e564020",
   "metadata": {},
   "outputs": [],
   "source": []
  },
  {
   "cell_type": "markdown",
   "id": "8a8f2213",
   "metadata": {},
   "source": [
    "### 4-. Métricas"
   ]
  },
  {
   "cell_type": "code",
   "execution_count": 132,
   "id": "bb62f375",
   "metadata": {},
   "outputs": [
    {
     "name": "stdout",
     "output_type": "stream",
     "text": [
      "~~~~~~~~~~~~~~~~~~~~~~~~~~~~~~~~~~~~~~~~~~~~~~~~~~\n",
      "\n",
      "~~~~~~~~~~~~~~~~~~~~~~~~~~~~~~~~~~~~~~~~~~~~~~~~~~\n",
      "\n",
      "------------------------------\n",
      ":\n",
      "------------------------------\n",
      "\n",
      "==================================================\n",
      "\n",
      "------------------------------\n",
      ":\n",
      "------------------------------\n",
      "\n",
      "~~~~~~~~~~~~~~~~~~~~~~~~~~~~~~~~~~~~~~~~~~~~~~~~~~\n"
     ]
    }
   ],
   "source": [
    "# --- TÍTULO GENERAL ---\n",
    "print(f'{'~'*50}')\n",
    "print('')\n",
    "print(f'{'~'*50}\\n')\n",
    "\n",
    "# ---  ---\n",
    "print(f'{'-'*30}\\n:\\n{'-'*30}')\n",
    "display()\n",
    "\n",
    "print(f'\\n{'='*50}\\n')\n",
    "\n",
    "# ---  ---\n",
    "print(f'{'-'*30}\\n:\\n{'-'*30}')\n",
    "display()\n",
    "\n",
    "print(f'\\n{'~'*50}')"
   ]
  },
  {
   "cell_type": "code",
   "execution_count": null,
   "id": "0e5b57e6",
   "metadata": {},
   "outputs": [],
   "source": []
  },
  {
   "cell_type": "code",
   "execution_count": null,
   "id": "8f068530",
   "metadata": {},
   "outputs": [],
   "source": []
  },
  {
   "cell_type": "markdown",
   "id": "b5a7c0d6",
   "metadata": {},
   "source": [
    "### 5-. Reporte"
   ]
  },
  {
   "cell_type": "code",
   "execution_count": 133,
   "id": "57111724",
   "metadata": {},
   "outputs": [
    {
     "name": "stdout",
     "output_type": "stream",
     "text": [
      "~~~~~~~~~~~~~~~~~~~~~~~~~~~~~~~~~~~~~~~~~~~~~~~~~~\n",
      "\n",
      "~~~~~~~~~~~~~~~~~~~~~~~~~~~~~~~~~~~~~~~~~~~~~~~~~~\n",
      "\n",
      "------------------------------\n",
      ":\n",
      "------------------------------\n",
      "\n",
      "==================================================\n",
      "\n",
      "------------------------------\n",
      ":\n",
      "------------------------------\n",
      "\n",
      "~~~~~~~~~~~~~~~~~~~~~~~~~~~~~~~~~~~~~~~~~~~~~~~~~~\n"
     ]
    }
   ],
   "source": [
    "# --- TÍTULO GENERAL ---\n",
    "print(f'{'~'*50}')\n",
    "print('')\n",
    "print(f'{'~'*50}\\n')\n",
    "\n",
    "# ---  ---\n",
    "print(f'{'-'*30}\\n:\\n{'-'*30}')\n",
    "display()\n",
    "\n",
    "print(f'\\n{'='*50}\\n')\n",
    "\n",
    "# ---  ---\n",
    "print(f'{'-'*30}\\n:\\n{'-'*30}')\n",
    "display()\n",
    "\n",
    "print(f'\\n{'~'*50}')"
   ]
  },
  {
   "cell_type": "code",
   "execution_count": null,
   "id": "5815f285",
   "metadata": {},
   "outputs": [],
   "source": []
  },
  {
   "cell_type": "code",
   "execution_count": null,
   "id": "a1d0c436",
   "metadata": {},
   "outputs": [],
   "source": []
  }
 ],
 "metadata": {
  "kernelspec": {
   "display_name": "Python 3",
   "language": "python",
   "name": "python3"
  },
  "language_info": {
   "codemirror_mode": {
    "name": "ipython",
    "version": 3
   },
   "file_extension": ".py",
   "mimetype": "text/x-python",
   "name": "python",
   "nbconvert_exporter": "python",
   "pygments_lexer": "ipython3",
   "version": "3.12.5"
  }
 },
 "nbformat": 4,
 "nbformat_minor": 5
}
